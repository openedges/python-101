{
 "cells": [
  {
   "cell_type": "markdown",
   "id": "5a07abf2",
   "metadata": {},
   "source": [
    "# Comment\n",
    "\\# 이후에 나오는 글자들은 주석으로 인식해서 모조리 무시됩니다."
   ]
  },
  {
   "cell_type": "code",
   "execution_count": 1,
   "id": "ec0ff456",
   "metadata": {},
   "outputs": [],
   "source": [
    "# some comments"
   ]
  },
  {
   "cell_type": "code",
   "execution_count": 2,
   "id": "74823b46",
   "metadata": {},
   "outputs": [
    {
     "data": {
      "text/plain": [
       "111"
      ]
     },
     "execution_count": 2,
     "metadata": {},
     "output_type": "execute_result"
    }
   ],
   "source": [
    "111 # another comment"
   ]
  },
  {
   "cell_type": "markdown",
   "id": "75e73ea7",
   "metadata": {},
   "source": [
    "# Assign\n",
    "= 은 변수에 값을 지정하는데 사용됩니다."
   ]
  },
  {
   "cell_type": "code",
   "execution_count": 3,
   "id": "8176e6bb",
   "metadata": {},
   "outputs": [
    {
     "name": "stdout",
     "output_type": "stream",
     "text": [
      "20\n",
      "20 45\n"
     ]
    }
   ],
   "source": [
    "width = 20\n",
    "height = 5 * 9\n",
    "\n",
    "print(width)\n",
    "print(width, height)"
   ]
  },
  {
   "cell_type": "markdown",
   "id": "8cd04066",
   "metadata": {},
   "source": [
    "아래 예제에 있는 것처럼 a, b = 1, 2 형식으로 여러개의 변수에 대해 값을 동시에 지정하는 것도 가능하며,"
   ]
  },
  {
   "cell_type": "code",
   "execution_count": 4,
   "id": "328ffe8c",
   "metadata": {},
   "outputs": [
    {
     "name": "stdout",
     "output_type": "stream",
     "text": [
      "40 135\n"
     ]
    }
   ],
   "source": [
    "width_m2, height_m3 = width * 2, height * 3\n",
    "\n",
    "print(width_m2, height_m3)"
   ]
  },
  {
   "cell_type": "markdown",
   "id": "a2d0515b",
   "metadata": {},
   "source": [
    "나중에 알아보게될 slice를 이용해서 일부 값만을 업데이트 하는 것도 가능합니다."
   ]
  },
  {
   "cell_type": "code",
   "execution_count": 5,
   "id": "3d694e43",
   "metadata": {},
   "outputs": [
    {
     "name": "stdout",
     "output_type": "stream",
     "text": [
      "[0, 4, 5, 3]\n"
     ]
    }
   ],
   "source": [
    "a = [ 4, 5 ]\n",
    "b = [ 0, 1, 2, 3 ]\n",
    "\n",
    "b[1:3] = a\n",
    "\n",
    "print(b)"
   ]
  },
  {
   "cell_type": "markdown",
   "id": "35f5bc5f",
   "metadata": {},
   "source": [
    "아래와 같이 Sequence Type에 있는 값을 여러 개의 변수로 extract하는 것도 가능합니다."
   ]
  },
  {
   "cell_type": "code",
   "execution_count": 6,
   "id": "c03eeda4",
   "metadata": {},
   "outputs": [
    {
     "name": "stdout",
     "output_type": "stream",
     "text": [
      "1\n",
      "2\n",
      "3\n",
      "4\n"
     ]
    }
   ],
   "source": [
    "a, b, c, d = [1, 2, 3, 4]\n",
    "\n",
    "print(a)\n",
    "print(b)\n",
    "print(c)\n",
    "print(d)"
   ]
  },
  {
   "cell_type": "markdown",
   "id": "24c4ff05",
   "metadata": {},
   "source": [
    "C style의 3항 연산자(a ? b : c) 는 지원하지 않으나 conditional expression 을 통해 비슷한 동작을 수행할 수 있습니다."
   ]
  },
  {
   "cell_type": "code",
   "execution_count": 7,
   "id": "46b1ac06",
   "metadata": {},
   "outputs": [
    {
     "name": "stdout",
     "output_type": "stream",
     "text": [
      "False\n"
     ]
    }
   ],
   "source": [
    "a = True\n",
    "b = False if a == True else True\n",
    "\n",
    "print(b)"
   ]
  },
  {
   "cell_type": "code",
   "execution_count": 8,
   "id": "41f8c9ec",
   "metadata": {},
   "outputs": [
    {
     "name": "stdout",
     "output_type": "stream",
     "text": [
      "True\n"
     ]
    }
   ],
   "source": [
    "a = False\n",
    "b = False if a == True else True\n",
    "\n",
    "print(b)"
   ]
  },
  {
   "cell_type": "markdown",
   "id": "23ef13cf",
   "metadata": {},
   "source": [
    "# Index\n",
    "String = \"abc\" 이나 list = [ 'a', 'b' ] 등의 sequence type에 대해서는 [index]를 통해 원하는 값을 가져올 수 있습니다. 다른 대부분의 언어들과 마찬가지로 index는 0에서 부터 시작합니다.\n"
   ]
  },
  {
   "cell_type": "code",
   "execution_count": 9,
   "id": "de58ebd3",
   "metadata": {},
   "outputs": [
    {
     "name": "stdout",
     "output_type": "stream",
     "text": [
      "4\n"
     ]
    }
   ],
   "source": [
    "values = [1, 2, 3, 4, 5]\n",
    "\n",
    "print(values[3])"
   ]
  },
  {
   "cell_type": "markdown",
   "id": "b43708f5",
   "metadata": {},
   "source": [
    "index가 음수 값을 가지게 되면, sequence의 뒤에서 부터의 위치를 나타냅니다."
   ]
  },
  {
   "cell_type": "code",
   "execution_count": 10,
   "id": "7a819809",
   "metadata": {},
   "outputs": [
    {
     "name": "stdout",
     "output_type": "stream",
     "text": [
      "5\n"
     ]
    }
   ],
   "source": [
    "values = [1, 2, 3, 4, 5]\n",
    "\n",
    "print(values[-1])"
   ]
  },
  {
   "cell_type": "markdown",
   "id": "c75d2aa2",
   "metadata": {},
   "source": [
    "-1은 마지막 데이터를 의미하고, -2는 마지막에서 두번째 데이터를 의미합니다.\n",
    "\n",
    "실제 없는 index로 접근하려고 하면, IndexError Exception이 발생합니다."
   ]
  },
  {
   "cell_type": "code",
   "execution_count": 11,
   "id": "2bfce3f7",
   "metadata": {},
   "outputs": [
    {
     "ename": "IndexError",
     "evalue": "list index out of range",
     "output_type": "error",
     "traceback": [
      "\u001b[0;31m---------------------------------------------------------------------------\u001b[0m",
      "\u001b[0;31mIndexError\u001b[0m                                Traceback (most recent call last)",
      "\u001b[0;32m/var/folders/6g/sdgwjcm51kn8l9zx06n9ww800000gn/T/ipykernel_25816/3489780026.py\u001b[0m in \u001b[0;36m<module>\u001b[0;34m\u001b[0m\n\u001b[1;32m      1\u001b[0m \u001b[0mvalues\u001b[0m \u001b[0;34m=\u001b[0m \u001b[0;34m[\u001b[0m\u001b[0;36m1\u001b[0m\u001b[0;34m,\u001b[0m \u001b[0;36m2\u001b[0m\u001b[0;34m,\u001b[0m \u001b[0;36m3\u001b[0m\u001b[0;34m,\u001b[0m \u001b[0;36m4\u001b[0m\u001b[0;34m,\u001b[0m \u001b[0;36m5\u001b[0m\u001b[0;34m]\u001b[0m\u001b[0;34m\u001b[0m\u001b[0;34m\u001b[0m\u001b[0m\n\u001b[1;32m      2\u001b[0m \u001b[0;34m\u001b[0m\u001b[0m\n\u001b[0;32m----> 3\u001b[0;31m \u001b[0mprint\u001b[0m\u001b[0;34m(\u001b[0m\u001b[0mvalues\u001b[0m\u001b[0;34m[\u001b[0m\u001b[0;34m-\u001b[0m\u001b[0;36m6\u001b[0m\u001b[0;34m]\u001b[0m\u001b[0;34m)\u001b[0m\u001b[0;34m\u001b[0m\u001b[0;34m\u001b[0m\u001b[0m\n\u001b[0m",
      "\u001b[0;31mIndexError\u001b[0m: list index out of range"
     ]
    }
   ],
   "source": [
    "values = [1, 2, 3, 4, 5]\n",
    "\n",
    "print(values[-6])"
   ]
  },
  {
   "cell_type": "markdown",
   "id": "d8245072",
   "metadata": {},
   "source": [
    "# Slice\n",
    "slice 연산자 [start:stop:step] 을 이용해서 아래와 같이 Sequence의 일부만 카피하는 것도 가능합니다. "
   ]
  },
  {
   "cell_type": "code",
   "execution_count": 12,
   "id": "73e88c0f",
   "metadata": {},
   "outputs": [
    {
     "name": "stdout",
     "output_type": "stream",
     "text": [
      "[2, 4]\n"
     ]
    }
   ],
   "source": [
    "values = [1, 2, 3, 4, 5]\n",
    "\n",
    "print(values[1:5:2])"
   ]
  },
  {
   "cell_type": "markdown",
   "id": "1498ef8a",
   "metadata": {},
   "source": [
    "start, stop, step 값은 생략이 가능하며 각각 기본값은 start=0, stop=length, step=1 입니다."
   ]
  },
  {
   "cell_type": "code",
   "execution_count": 13,
   "id": "57dedf7f",
   "metadata": {},
   "outputs": [
    {
     "name": "stdout",
     "output_type": "stream",
     "text": [
      "[1, 2]\n",
      "[3, 4, 5]\n",
      "[1, 2, 3, 4, 5]\n"
     ]
    }
   ],
   "source": [
    "print(values[:2])\n",
    "print(values[2:])\n",
    "print(values[:])"
   ]
  },
  {
   "cell_type": "markdown",
   "id": "8ae438ff",
   "metadata": {},
   "source": [
    "기본적으로 slice 연산은 shallow copy를 수행하므로 위의 예제 중 마지막 예제의 경우 기존의 Sequence를 copy해서 새로운 Sequence object를 만드는 역할을 수행합니다."
   ]
  },
  {
   "cell_type": "code",
   "execution_count": 14,
   "id": "57ac2542",
   "metadata": {},
   "outputs": [
    {
     "name": "stdout",
     "output_type": "stream",
     "text": [
      "140691255389568 4365519360\n",
      "140691256336448 4365519360\n"
     ]
    }
   ],
   "source": [
    "new_values = values[:]\n",
    "\n",
    "print(id(values), id(values[0]))\n",
    "print(id(new_values), id(new_values[0]))"
   ]
  },
  {
   "cell_type": "markdown",
   "id": "57dae483",
   "metadata": {},
   "source": [
    "Shallow copy 이므로 Sequence에 포함된 object 자체가 바뀌는 경우 기존 Sequence도 영향을 받을 수 있습니다."
   ]
  },
  {
   "cell_type": "code",
   "execution_count": 15,
   "id": "6b18de2d",
   "metadata": {},
   "outputs": [
    {
     "name": "stdout",
     "output_type": "stream",
     "text": [
      "[{'k': 'v'}] [{'k': 'v'}]\n",
      "[{'k': 'nv'}] [{'k': 'nv'}]\n"
     ]
    }
   ],
   "source": [
    "a = {'k': 'v'}\n",
    "\n",
    "values = [a]\n",
    "new_values = values[:]\n",
    "#new_values.append(1)\n",
    "\n",
    "print(values, new_values)\n",
    "\n",
    "a['k'] = 'nv'\n",
    "\n",
    "print(values, new_values)"
   ]
  },
  {
   "cell_type": "code",
   "execution_count": null,
   "id": "e38eceeb",
   "metadata": {},
   "outputs": [],
   "source": []
  }
 ],
 "metadata": {
  "kernelspec": {
   "display_name": "Python 3 (ipykernel)",
   "language": "python",
   "name": "python3"
  },
  "language_info": {
   "codemirror_mode": {
    "name": "ipython",
    "version": 3
   },
   "file_extension": ".py",
   "mimetype": "text/x-python",
   "name": "python",
   "nbconvert_exporter": "python",
   "pygments_lexer": "ipython3",
   "version": "3.8.12"
  }
 },
 "nbformat": 4,
 "nbformat_minor": 5
}
