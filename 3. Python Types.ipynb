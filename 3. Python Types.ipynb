{
 "cells": [
  {
   "cell_type": "markdown",
   "id": "560a99a2",
   "metadata": {},
   "source": [
    "# Boolean Values\n",
    "Boolean Literals\n",
    "\n",
    "```\n",
    "True  False\n",
    "```"
   ]
  },
  {
   "cell_type": "code",
   "execution_count": null,
   "id": "f6561769",
   "metadata": {},
   "outputs": [],
   "source": [
    "bool(True), bool(False)"
   ]
  },
  {
   "cell_type": "markdown",
   "id": "7d37551d",
   "metadata": {},
   "source": [
    "기본적인 built-in type의 값들에 대해 bool 값은 아래와 같은 값으로 판정된다.\n",
    "\n",
    "* constant defined to be false: None, False\n",
    "* zero of any numeric type: 0, 0.0, 0j, Decimal(0), Fraction(0, 1)\n",
    "* empty sequence and collections: '', (), [], set(), range(0) "
   ]
  },
  {
   "cell_type": "code",
   "execution_count": null,
   "id": "69212af4",
   "metadata": {},
   "outputs": [],
   "source": [
    "bool(1), bool(0)"
   ]
  },
  {
   "cell_type": "code",
   "execution_count": null,
   "id": "de48be08",
   "metadata": {},
   "outputs": [],
   "source": [
    "bool('A'), bool('')"
   ]
  },
  {
   "cell_type": "code",
   "execution_count": null,
   "id": "32ea5fa9",
   "metadata": {},
   "outputs": [],
   "source": [
    "bool(['']), bool([])"
   ]
  },
  {
   "cell_type": "markdown",
   "id": "5e6552b5",
   "metadata": {},
   "source": [
    "# Numeric Types - int, float, complexes\n",
    "## Integer\n",
    "integer literals\n",
    "\n",
    "```\n",
    "7     2147483647                        0o177          0b100110111\n",
    "3     79228162514264337593543950336     0o377          0xdeadbeef\n",
    "\n",
    "# >=python3.6 only\n",
    "100_000_000_000                         0b_1110_0101   0xdead_beef\n",
    "```\n",
    "\n",
    "integer class\n",
    "\n",
    "```\n",
    "int(10)\n",
    "int('111')\n",
    "```"
   ]
  },
  {
   "cell_type": "code",
   "execution_count": null,
   "id": "11d99d7b",
   "metadata": {},
   "outputs": [],
   "source": [
    "print(int(10), type(int(10)))\n",
    "print(int('11'), type(int('11')))"
   ]
  },
  {
   "cell_type": "markdown",
   "id": "92a3cfd2",
   "metadata": {},
   "source": [
    "## Floating Point\n",
    "Floating point literals\n",
    "\n",
    "```\n",
    "3.14    10.    .001    1e100    3.14e-10    0e0    \n",
    "\n",
    "# >=python3.6 only\n",
    "3.14_15_93\n",
    "```\n",
    "\n",
    "Floating point class\n",
    "\n",
    "```\n",
    "float(1.5)\n",
    "float(1<<1000)\n",
    "float('infinity'), float('inf'), float('-infinity'), float('-inf')\n",
    "float('nan')\n",
    "```"
   ]
  },
  {
   "cell_type": "code",
   "execution_count": null,
   "id": "f96e1752",
   "metadata": {},
   "outputs": [],
   "source": [
    "print(float(1.5))\n",
    "print(float(1<<1000))\n",
    "print(float('infinity'), float('inf'), float('-infinity'), float('-inf'))\n",
    "print(float('nan'))\n",
    "print(type(float('inf')), type(float('nan')))"
   ]
  },
  {
   "cell_type": "markdown",
   "id": "d5c7dc32",
   "metadata": {},
   "source": [
    "## Complex\n",
    "imaginary literals\n",
    "\n",
    "```\n",
    "3.14j   10.j    10j     .001j   1e100j   3.14e-10j   \n",
    "\n",
    "# >=python3.6 only\n",
    "3.14_15_93j\n",
    "```\n",
    "\n",
    "Complex class\n",
    "\n",
    "```\n",
    "complex(1+2j)\n",
    "complex(1,2)\n",
    "complex('1+2j')\n",
    "```"
   ]
  },
  {
   "cell_type": "code",
   "execution_count": null,
   "id": "478c0276",
   "metadata": {},
   "outputs": [],
   "source": [
    "print(complex(1+2j))\n",
    "print(complex(1,2))\n",
    "print(complex('1+2j'))"
   ]
  },
  {
   "cell_type": "markdown",
   "id": "cab27dfb",
   "metadata": {},
   "source": [
    "# Iterator Types\n",
    "Python supports a concept of iteration over containers. 이를 사용하기 위해서는 두개의 method를 구현해야 하며, 이를 통해 사용자 정의 클래스가 iteration을 지원하도록 만들 수 있습니다.\n",
    "\n",
    "* container.\\_\\_iter\\_\\_() → iterator object를 리턴하는 역할을 수행합니다. 리턴되는 object는 iterator protocol을 지원해야 합니다.\n",
    "\n",
    "iterator object는 iterator protocol에 맞춰 동작하기 위해 다음의 두 method를 지원해야 합니다.\n",
    "\n",
    "* iterator.\\_\\_iter()\\_\\_() → iterator object 자신을 리턴합니다. 이 method는 for 나 in statement를 처리하는데 사용됩니다.\n",
    "* iterator.\\_\\_next()\\_\\_() → 다음 item을 리턴합니다. 더 이상 item이 남아있지 않은 경우 StopIteration exception을 발생시켜야 합니다.\n"
   ]
  },
  {
   "cell_type": "code",
   "execution_count": null,
   "id": "488db41a",
   "metadata": {},
   "outputs": [],
   "source": [
    "class IterEx(object):\n",
    "    def __init__(self, max=10):\n",
    "        self.i = 0\n",
    "        self.max = max\n",
    " \n",
    "    def __iter__(self):\n",
    "        return self\n",
    " \n",
    "    def __next__(self):\n",
    "        if self.i >= self.max:\n",
    "            raise StopIteration\n",
    " \n",
    "        ret = self.i\n",
    "        self.i += 1\n",
    " \n",
    "        return ret\n",
    " \n",
    " \n",
    "for i in IterEx(3):\n",
    "    print(i)\n"
   ]
  },
  {
   "cell_type": "code",
   "execution_count": null,
   "id": "c7dec298",
   "metadata": {},
   "outputs": [],
   "source": [
    "iter = IterEx(3)"
   ]
  },
  {
   "cell_type": "code",
   "execution_count": null,
   "id": "c2e9a18f",
   "metadata": {
    "scrolled": true
   },
   "outputs": [],
   "source": [
    "next(iter)"
   ]
  },
  {
   "cell_type": "markdown",
   "id": "49a72981",
   "metadata": {},
   "source": [
    "앞으로 Sequence type에서 알아볼 type들의 경우 모두 iterator protocol 을 지원합니다."
   ]
  },
  {
   "cell_type": "markdown",
   "id": "9c254cfc",
   "metadata": {},
   "source": [
    "# Generator Types\n",
    "Generators provide a convenient way to implement the iterator protocol.\n",
    "\n",
    "## generator\n",
    "A function which returns a generator iterator. It looks like a normal function except that it contains yield expressions for producing a series of values usable in a for-loop or that can be retrieved one at a time with the next() function.\n",
    "\n",
    "Usually refers to a generator function, but may refer to a generator iterator in some contexts. \n",
    "\n",
    "## generator iterator\n",
    "An object created by a generator function\n",
    "\n",
    "Each yield temporarilly suspends processing, rememberting the location execution state.\n",
    "\n"
   ]
  },
  {
   "cell_type": "code",
   "execution_count": null,
   "id": "356f6ceb",
   "metadata": {},
   "outputs": [],
   "source": [
    "def generator():\n",
    "    for i in range(4):\n",
    "        yield i\n",
    "        print('continue generator function...')\n",
    "\n",
    "for x in generator():\n",
    "    print('loop', x)"
   ]
  },
  {
   "cell_type": "code",
   "execution_count": null,
   "id": "1e8028cd",
   "metadata": {},
   "outputs": [],
   "source": [
    "iter = generator()"
   ]
  },
  {
   "cell_type": "code",
   "execution_count": null,
   "id": "3f87e51a",
   "metadata": {},
   "outputs": [],
   "source": [
    "next(iter)"
   ]
  },
  {
   "cell_type": "markdown",
   "id": "c0a86cc8",
   "metadata": {},
   "source": [
    "## generator expression\n",
    "An expression that returns an generator."
   ]
  },
  {
   "cell_type": "code",
   "execution_count": null,
   "id": "486e3f0d",
   "metadata": {},
   "outputs": [],
   "source": [
    "sum(i*i for i in range(3)) # = 0 + 1*1 + 2*2"
   ]
  },
  {
   "cell_type": "markdown",
   "id": "e7c43e7f",
   "metadata": {},
   "source": [
    "generator는 한번 iteration을 끝내고 나면 더이상 item을 생성하지 않는다."
   ]
  },
  {
   "cell_type": "code",
   "execution_count": null,
   "id": "66c0d699",
   "metadata": {},
   "outputs": [],
   "source": [
    "g = (i*i for i in range(3))"
   ]
  },
  {
   "cell_type": "code",
   "execution_count": null,
   "id": "4f46e037",
   "metadata": {},
   "outputs": [],
   "source": [
    "for x in g:\n",
    "    print(x)"
   ]
  },
  {
   "cell_type": "markdown",
   "id": "1cd10ad4",
   "metadata": {},
   "source": [
    "# Sequence Types - list, tuple, range\n",
    "\n",
    "> immutable sequence type\n",
    ": An object with a fixed value. Immutable objects include numbers, strings and tuples. Such an object cannot be altered. A new object has to be created if a different value has to be stored. They play an important role in places where a constant hash value is needed, for example as a key in a dictionary.\n",
    "\n",
    "operations in the following table are defined on immutable sequence types.\n",
    "\n",
    "| operation | description |\n",
    "| --- | --- |\n",
    "| `x not in s`\t| False if an item of s is equal to x, else True |\n",
    "| `x in s`\t| True if an item of s is equal to x, else False |\n",
    "| `s[i]`\t| ith item of s, origin 0 |\n",
    "| `s[i:j]`\t| slice of s from i to j |\n",
    "| `s[i:j:k]`\t| slice of s from i to j with step k |\n",
    "| `s.index(x[, i[, j]])`\t| index of first occurrence of x in s |\n",
    "| `s.count(x)`\t| total number of occurrences of x in s |\n",
    "| `s + t`\t| the concatenation of s and t| \n",
    "| `s * n` or `n * s`\t| equivalent to adding s to itself n times |\n",
    "| `min(s)`\t| smallest item of s |\n",
    "| `max(s)`\t| largest item of s |\n",
    "| `len(s)`\t| length of s |\n",
    "\n",
    "> mutable sequence type\n",
    ": Mutable objects can change their value but keep their id(). See also immutable.\n",
    "\n",
    "operations in the following table are defined on common sequence types.\n",
    "\n",
    "| operation | description |\n",
    "| --- | --- |\n",
    "| `s[i] = x`\t| item i of s is replaced by x |\n",
    "| `s[i:j] = t`\t| slice of s from i to j is replaced by the content of the iterable t |\n",
    "| `del s[i:j]`\t| same as `s[i:j] = []` |\n",
    "| `s[i:j:k] = t`\t| ... |\n",
    "| `del s[i:j:k]`\t| ... |\n",
    "| `s.append(x)`\t| appends x to the end of the sequence |\n",
    "| `s.clear()`\t| remove all items from s (same as `del s[:]`) |\n",
    "| `s.copy()`\t| creates shallow copy of s (same as s[:]) |\n",
    "| `s.extend(t)` or `s += t`\t| extends s with the contents of t |\n",
    "| `s *= n`\t| update s with its contents repeated n times |\n",
    "| `s.insert(i, x)`\t| inserts x into s at the index given by i |\n",
    "| `s.pop([i])`\t| retrieves the item at i and also removes it from s |\n",
    "| `s.remove(x)`\t| remove the first item from s where s[i] == x, the optional algument i defaults to -1 |\n",
    "| `s.reverse()`\t| reverse the items of s in place |"
   ]
  },
  {
   "cell_type": "code",
   "execution_count": null,
   "id": "927ac40e",
   "metadata": {},
   "outputs": [],
   "source": [
    "s = [1, 2, 3]"
   ]
  },
  {
   "cell_type": "code",
   "execution_count": null,
   "id": "c6abf592",
   "metadata": {},
   "outputs": [],
   "source": [
    "s1 = [111, 222, 333]\n",
    "s1.append(s)\n",
    "s1"
   ]
  },
  {
   "cell_type": "code",
   "execution_count": null,
   "id": "5f381ff4",
   "metadata": {},
   "outputs": [],
   "source": [
    "s2 = [111, 222, 333]\n",
    "s2.extend(s)\n",
    "s2"
   ]
  },
  {
   "cell_type": "code",
   "execution_count": null,
   "id": "8e46c98b",
   "metadata": {},
   "outputs": [],
   "source": [
    "s3 = [111, 222, 333]\n",
    "s3.insert(-2, -2)\n",
    "s3"
   ]
  },
  {
   "cell_type": "code",
   "execution_count": null,
   "id": "422629a9",
   "metadata": {},
   "outputs": [],
   "source": [
    "s4 = [111, 222, 333]\n",
    "s4.insert(0, 0)\n",
    "s4"
   ]
  },
  {
   "cell_type": "code",
   "execution_count": null,
   "id": "bfca2e7b",
   "metadata": {},
   "outputs": [],
   "source": [
    "s5 = [111, 222, 333]\n",
    "s5.append(444)\n",
    "s5"
   ]
  },
  {
   "cell_type": "markdown",
   "id": "dcce77d5",
   "metadata": {},
   "source": [
    "## Lists\n",
    "Mutable Sequence, typically used to store collections of homogeneous items.\n",
    "\n",
    "List는 아래와 같은 방법으로 생성이 가능합니다.\n",
    "\n",
    "* `[ ]` : empty list\n",
    "* `[a]` : 하나의 item을 가진 list\n",
    "* `[a, b, c]` :  comma로 구분되는 item을 가진 list\n",
    "* `list(iterable)`\n",
    "* list comprehension : `[x for x in iterable]`\n",
    "\n",
    "> list comprehensions\n",
    ": Python은 list를 생성할 때 각각의 item을 생성하는 조건을 기술하여 만들 수 있는 표현은 제공합니다. generator expressions과 비슷하며 단지 ( ) 대신 [ ] 을 사용합니다.\n",
    "https://docs.python.org/3.6/tutorial/datastructures.html#list-comprehensions\n"
   ]
  },
  {
   "cell_type": "code",
   "execution_count": null,
   "id": "671f3dab",
   "metadata": {},
   "outputs": [],
   "source": [
    "[x**2 for x in range(3)]"
   ]
  },
  {
   "cell_type": "code",
   "execution_count": null,
   "id": "303cba0b",
   "metadata": {},
   "outputs": [],
   "source": [
    "[i / 2 for i in range(10) if i % 2 == 1]"
   ]
  },
  {
   "cell_type": "code",
   "execution_count": null,
   "id": "84ff30ef",
   "metadata": {},
   "outputs": [],
   "source": [
    "[(x, y) for x in range(3) for y in range(3) if x == y]"
   ]
  },
  {
   "cell_type": "code",
   "execution_count": null,
   "id": "c681c44e",
   "metadata": {},
   "outputs": [],
   "source": [
    "[[x for x in range(y, y + 3)] for y in range(3)]"
   ]
  },
  {
   "cell_type": "code",
   "execution_count": null,
   "id": "d2d3fae4",
   "metadata": {},
   "outputs": [],
   "source": []
  }
 ],
 "metadata": {
  "kernelspec": {
   "display_name": "Python 3 (ipykernel)",
   "language": "python",
   "name": "python3"
  },
  "language_info": {
   "codemirror_mode": {
    "name": "ipython",
    "version": 3
   },
   "file_extension": ".py",
   "mimetype": "text/x-python",
   "name": "python",
   "nbconvert_exporter": "python",
   "pygments_lexer": "ipython3",
   "version": "3.8.12"
  }
 },
 "nbformat": 4,
 "nbformat_minor": 5
}
