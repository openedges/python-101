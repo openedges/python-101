{
 "cells": [
  {
   "cell_type": "markdown",
   "id": "560a99a2",
   "metadata": {},
   "source": [
    "# Boolean Values\n",
    "Boolean Literals\n",
    "\n",
    "```\n",
    "True  False\n",
    "```"
   ]
  },
  {
   "cell_type": "code",
   "execution_count": 1,
   "id": "f6561769",
   "metadata": {},
   "outputs": [
    {
     "data": {
      "text/plain": [
       "(True, False)"
      ]
     },
     "execution_count": 1,
     "metadata": {},
     "output_type": "execute_result"
    }
   ],
   "source": [
    "bool(True), bool(False)"
   ]
  },
  {
   "cell_type": "markdown",
   "id": "7d37551d",
   "metadata": {},
   "source": [
    "기본적인 built-in type의 값들에 대해 bool 값은 아래와 같은 값으로 판정된다.\n",
    "\n",
    "* constant defined to be false: None, False\n",
    "* zero of any numeric type: 0, 0.0, 0j, Decimal(0), Fraction(0, 1)\n",
    "* empty sequence and collections: '', (), [], set(), range(0) "
   ]
  },
  {
   "cell_type": "code",
   "execution_count": 2,
   "id": "69212af4",
   "metadata": {},
   "outputs": [
    {
     "data": {
      "text/plain": [
       "(True, False)"
      ]
     },
     "execution_count": 2,
     "metadata": {},
     "output_type": "execute_result"
    }
   ],
   "source": [
    "bool(1), bool(0)"
   ]
  },
  {
   "cell_type": "code",
   "execution_count": 3,
   "id": "de48be08",
   "metadata": {},
   "outputs": [
    {
     "data": {
      "text/plain": [
       "(True, False)"
      ]
     },
     "execution_count": 3,
     "metadata": {},
     "output_type": "execute_result"
    }
   ],
   "source": [
    "bool('A'), bool('')"
   ]
  },
  {
   "cell_type": "code",
   "execution_count": 4,
   "id": "32ea5fa9",
   "metadata": {},
   "outputs": [
    {
     "data": {
      "text/plain": [
       "(True, False)"
      ]
     },
     "execution_count": 4,
     "metadata": {},
     "output_type": "execute_result"
    }
   ],
   "source": [
    "bool(['']), bool([])"
   ]
  },
  {
   "cell_type": "markdown",
   "id": "5e6552b5",
   "metadata": {},
   "source": [
    "# Numeric Types - int, float, complexes\n",
    "## Integer\n",
    "integer literals\n",
    "\n",
    "```\n",
    "7     2147483647                        0o177          0b100110111\n",
    "3     79228162514264337593543950336     0o377          0xdeadbeef\n",
    "\n",
    "# >=python3.6 only\n",
    "100_000_000_000                         0b_1110_0101   0xdead_beef\n",
    "```\n",
    "\n",
    "integer class\n",
    "\n",
    "```\n",
    "int(10)\n",
    "int('111')\n",
    "```"
   ]
  },
  {
   "cell_type": "code",
   "execution_count": 5,
   "id": "11d99d7b",
   "metadata": {},
   "outputs": [
    {
     "name": "stdout",
     "output_type": "stream",
     "text": [
      "10 <class 'int'>\n",
      "11 <class 'int'>\n"
     ]
    }
   ],
   "source": [
    "print(int(10), type(int(10)))\n",
    "print(int('11'), type(int('11')))"
   ]
  },
  {
   "cell_type": "markdown",
   "id": "92a3cfd2",
   "metadata": {},
   "source": [
    "## Floating Point\n",
    "Floating point literals\n",
    "\n",
    "```\n",
    "3.14    10.    .001    1e100    3.14e-10    0e0    \n",
    "\n",
    "# >=python3.6 only\n",
    "3.14_15_93\n",
    "```\n",
    "\n",
    "Floating point class\n",
    "\n",
    "```\n",
    "float(1.5)\n",
    "float(1<<1000)\n",
    "float('infinity'), float('inf'), float('-infinity'), float('-inf')\n",
    "float('nan')\n",
    "```"
   ]
  },
  {
   "cell_type": "code",
   "execution_count": 6,
   "id": "f96e1752",
   "metadata": {},
   "outputs": [
    {
     "name": "stdout",
     "output_type": "stream",
     "text": [
      "1.5\n",
      "1.0715086071862673e+301\n",
      "inf inf -inf -inf\n",
      "nan\n",
      "<class 'float'> <class 'float'>\n"
     ]
    }
   ],
   "source": [
    "print(float(1.5))\n",
    "print(float(1<<1000))\n",
    "print(float('infinity'), float('inf'), float('-infinity'), float('-inf'))\n",
    "print(float('nan'))\n",
    "print(type(float('inf')), type(float('nan')))"
   ]
  },
  {
   "cell_type": "markdown",
   "id": "d5c7dc32",
   "metadata": {},
   "source": [
    "## Complex\n",
    "imaginary literals\n",
    "\n",
    "```\n",
    "3.14j   10.j    10j     .001j   1e100j   3.14e-10j   \n",
    "\n",
    "# >=python3.6 only\n",
    "3.14_15_93j\n",
    "```\n",
    "\n",
    "Complex class\n",
    "\n",
    "```\n",
    "complex(1+2j)\n",
    "complex(1,2)\n",
    "complex('1+2j')\n",
    "```"
   ]
  },
  {
   "cell_type": "code",
   "execution_count": 7,
   "id": "478c0276",
   "metadata": {},
   "outputs": [
    {
     "name": "stdout",
     "output_type": "stream",
     "text": [
      "(1+2j)\n",
      "(1+2j)\n",
      "(1+2j)\n"
     ]
    }
   ],
   "source": [
    "print(complex(1+2j))\n",
    "print(complex(1,2))\n",
    "print(complex('1+2j'))"
   ]
  },
  {
   "cell_type": "markdown",
   "id": "cab27dfb",
   "metadata": {},
   "source": [
    "# Iterator Types\n",
    "Python supports a concept of iteration over containers. 이를 사용하기 위해서는 두개의 method를 구현해야 하며, 이를 통해 사용자 정의 클래스가 iteration을 지원하도록 만들 수 있습니다.\n",
    "\n",
    "* container.\\_\\_iter\\_\\_() → iterator object를 리턴하는 역할을 수행합니다. 리턴되는 object는 iterator protocol을 지원해야 합니다.\n",
    "\n",
    "iterator object는 iterator protocol에 맞춰 동작하기 위해 다음의 두 method를 지원해야 합니다.\n",
    "\n",
    "* iterator.\\_\\_iter()\\_\\_() → iterator object 자신을 리턴합니다. 이 method는 for 나 in statement를 처리하는데 사용됩니다.\n",
    "* iterator.\\_\\_next()\\_\\_() → 다음 item을 리턴합니다. 더 이상 item이 남아있지 않은 경우 StopIteration exception을 발생시켜야 합니다.\n"
   ]
  },
  {
   "cell_type": "code",
   "execution_count": 8,
   "id": "488db41a",
   "metadata": {},
   "outputs": [
    {
     "name": "stdout",
     "output_type": "stream",
     "text": [
      "0\n",
      "1\n",
      "2\n"
     ]
    }
   ],
   "source": [
    "class IterEx(object):\n",
    "    def __init__(self, max=10):\n",
    "        self.i = 0\n",
    "        self.max = max\n",
    " \n",
    "    def __iter__(self):\n",
    "        return self\n",
    " \n",
    "    def __next__(self):\n",
    "        if self.i >= self.max:\n",
    "            raise StopIteration\n",
    " \n",
    "        ret = self.i\n",
    "        self.i += 1\n",
    " \n",
    "        return ret\n",
    " \n",
    " \n",
    "for i in IterEx(3):\n",
    "    print(i)\n"
   ]
  },
  {
   "cell_type": "code",
   "execution_count": 9,
   "id": "c7dec298",
   "metadata": {},
   "outputs": [],
   "source": [
    "iter = IterEx(3)"
   ]
  },
  {
   "cell_type": "code",
   "execution_count": 10,
   "id": "c2e9a18f",
   "metadata": {
    "scrolled": true
   },
   "outputs": [
    {
     "data": {
      "text/plain": [
       "0"
      ]
     },
     "execution_count": 10,
     "metadata": {},
     "output_type": "execute_result"
    }
   ],
   "source": [
    "next(iter)"
   ]
  },
  {
   "cell_type": "markdown",
   "id": "49a72981",
   "metadata": {},
   "source": [
    "앞으로 Sequence type에서 알아볼 type들의 경우 모두 iterator protocol 을 지원합니다."
   ]
  },
  {
   "cell_type": "markdown",
   "id": "9c254cfc",
   "metadata": {},
   "source": [
    "# Generator Types\n",
    "Generators provide a convenient way to implement the iterator protocol.\n",
    "\n",
    "## generator\n",
    "A function which returns a generator iterator. It looks like a normal function except that it contains yield expressions for producing a series of values usable in a for-loop or that can be retrieved one at a time with the next() function.\n",
    "\n",
    "Usually refers to a generator function, but may refer to a generator iterator in some contexts. \n",
    "\n",
    "## generator iterator\n",
    "An object created by a generator function\n",
    "\n",
    "Each yield temporarilly suspends processing, rememberting the location execution state.\n",
    "\n"
   ]
  },
  {
   "cell_type": "code",
   "execution_count": 11,
   "id": "356f6ceb",
   "metadata": {},
   "outputs": [
    {
     "name": "stdout",
     "output_type": "stream",
     "text": [
      "loop 0\n",
      "continue generator function...\n",
      "loop 1\n",
      "continue generator function...\n",
      "loop 2\n",
      "continue generator function...\n",
      "loop 3\n",
      "continue generator function...\n"
     ]
    }
   ],
   "source": [
    "def generator():\n",
    "    for i in range(4):\n",
    "        yield i\n",
    "        print('continue generator function...')\n",
    "\n",
    "for x in generator():\n",
    "    print('loop', x)"
   ]
  },
  {
   "cell_type": "code",
   "execution_count": 12,
   "id": "1e8028cd",
   "metadata": {},
   "outputs": [],
   "source": [
    "iter = generator()"
   ]
  },
  {
   "cell_type": "code",
   "execution_count": 13,
   "id": "3f87e51a",
   "metadata": {},
   "outputs": [
    {
     "data": {
      "text/plain": [
       "0"
      ]
     },
     "execution_count": 13,
     "metadata": {},
     "output_type": "execute_result"
    }
   ],
   "source": [
    "next(iter)"
   ]
  },
  {
   "cell_type": "markdown",
   "id": "c0a86cc8",
   "metadata": {},
   "source": [
    "## generator expression\n",
    "An expression that returns an generator."
   ]
  },
  {
   "cell_type": "code",
   "execution_count": 14,
   "id": "486e3f0d",
   "metadata": {},
   "outputs": [
    {
     "data": {
      "text/plain": [
       "5"
      ]
     },
     "execution_count": 14,
     "metadata": {},
     "output_type": "execute_result"
    }
   ],
   "source": [
    "sum(i*i for i in range(3)) # = 0 + 1*1 + 2*2"
   ]
  },
  {
   "cell_type": "markdown",
   "id": "e7c43e7f",
   "metadata": {},
   "source": [
    "generator는 한번 iteration을 끝내고 나면 더이상 item을 생성하지 않습니다."
   ]
  },
  {
   "cell_type": "code",
   "execution_count": 15,
   "id": "66c0d699",
   "metadata": {},
   "outputs": [],
   "source": [
    "g = (i*i for i in range(3))"
   ]
  },
  {
   "cell_type": "code",
   "execution_count": 16,
   "id": "4f46e037",
   "metadata": {},
   "outputs": [
    {
     "name": "stdout",
     "output_type": "stream",
     "text": [
      "0\n",
      "1\n",
      "4\n"
     ]
    }
   ],
   "source": [
    "for x in g:\n",
    "    print(x)"
   ]
  },
  {
   "cell_type": "markdown",
   "id": "1cd10ad4",
   "metadata": {},
   "source": [
    "# Sequence Types - list, tuple, range\n",
    "\n",
    "> immutable sequence type\n",
    ": An object with a fixed value. Immutable objects include numbers, strings and tuples. Such an object cannot be altered. A new object has to be created if a different value has to be stored. They play an important role in places where a constant hash value is needed, for example as a key in a dictionary.\n",
    "\n",
    "operations in the following table are defined on immutable sequence types.\n",
    "\n",
    "| operation | description |\n",
    "| --- | --- |\n",
    "| `x not in s`\t| False if an item of s is equal to x, else True |\n",
    "| `x in s`\t| True if an item of s is equal to x, else False |\n",
    "| `s[i]`\t| ith item of s, origin 0 |\n",
    "| `s[i:j]`\t| slice of s from i to j |\n",
    "| `s[i:j:k]`\t| slice of s from i to j with step k |\n",
    "| `s.index(x[, i[, j]])`\t| index of first occurrence of x in s |\n",
    "| `s.count(x)`\t| total number of occurrences of x in s |\n",
    "| `s + t`\t| the concatenation of s and t| \n",
    "| `s * n` or `n * s`\t| equivalent to adding s to itself n times |\n",
    "| `min(s)`\t| smallest item of s |\n",
    "| `max(s)`\t| largest item of s |\n",
    "| `len(s)`\t| length of s |\n",
    "\n",
    "> mutable sequence type\n",
    ": Mutable objects can change their value but keep their id(). See also immutable.\n",
    "\n",
    "operations in the following table are defined on common sequence types.\n",
    "\n",
    "| operation | description |\n",
    "| --- | --- |\n",
    "| `s[i] = x`\t| item i of s is replaced by x |\n",
    "| `s[i:j] = t`\t| slice of s from i to j is replaced by the content of the iterable t |\n",
    "| `del s[i:j]`\t| same as `s[i:j] = []` |\n",
    "| `s[i:j:k] = t`\t| ... |\n",
    "| `del s[i:j:k]`\t| ... |\n",
    "| `s.append(x)`\t| appends x to the end of the sequence |\n",
    "| `s.clear()`\t| remove all items from s (same as `del s[:]`) |\n",
    "| `s.copy()`\t| creates shallow copy of s (same as s[:]) |\n",
    "| `s.extend(t)` or `s += t`\t| extends s with the contents of t |\n",
    "| `s *= n`\t| update s with its contents repeated n times |\n",
    "| `s.insert(i, x)`\t| inserts x into s at the index given by i |\n",
    "| `s.pop([i])`\t| retrieves the item at i and also removes it from s |\n",
    "| `s.remove(x)`\t| remove the first item from s where s[i] == x, the optional algument i defaults to -1 |\n",
    "| `s.reverse()`\t| reverse the items of s in place |"
   ]
  },
  {
   "cell_type": "code",
   "execution_count": 17,
   "id": "927ac40e",
   "metadata": {},
   "outputs": [],
   "source": [
    "s = [1, 2, 3]"
   ]
  },
  {
   "cell_type": "code",
   "execution_count": 18,
   "id": "c6abf592",
   "metadata": {},
   "outputs": [
    {
     "data": {
      "text/plain": [
       "[111, 222, 333, [1, 2, 3]]"
      ]
     },
     "execution_count": 18,
     "metadata": {},
     "output_type": "execute_result"
    }
   ],
   "source": [
    "s1 = [111, 222, 333]\n",
    "s1.append(s)\n",
    "s1"
   ]
  },
  {
   "cell_type": "code",
   "execution_count": 19,
   "id": "5f381ff4",
   "metadata": {},
   "outputs": [
    {
     "data": {
      "text/plain": [
       "[111, 222, 333, 1, 2, 3]"
      ]
     },
     "execution_count": 19,
     "metadata": {},
     "output_type": "execute_result"
    }
   ],
   "source": [
    "s2 = [111, 222, 333]\n",
    "s2.extend(s)\n",
    "s2"
   ]
  },
  {
   "cell_type": "code",
   "execution_count": 20,
   "id": "8e46c98b",
   "metadata": {},
   "outputs": [
    {
     "data": {
      "text/plain": [
       "[111, -2, 222, 333]"
      ]
     },
     "execution_count": 20,
     "metadata": {},
     "output_type": "execute_result"
    }
   ],
   "source": [
    "s3 = [111, 222, 333]\n",
    "s3.insert(-2, -2)\n",
    "s3"
   ]
  },
  {
   "cell_type": "code",
   "execution_count": 21,
   "id": "422629a9",
   "metadata": {},
   "outputs": [
    {
     "data": {
      "text/plain": [
       "[0, 111, 222, 333]"
      ]
     },
     "execution_count": 21,
     "metadata": {},
     "output_type": "execute_result"
    }
   ],
   "source": [
    "s4 = [111, 222, 333]\n",
    "s4.insert(0, 0)\n",
    "s4"
   ]
  },
  {
   "cell_type": "code",
   "execution_count": 22,
   "id": "bfca2e7b",
   "metadata": {},
   "outputs": [
    {
     "data": {
      "text/plain": [
       "[111, 222, 333, 444]"
      ]
     },
     "execution_count": 22,
     "metadata": {},
     "output_type": "execute_result"
    }
   ],
   "source": [
    "s5 = [111, 222, 333]\n",
    "s5.append(444)\n",
    "s5"
   ]
  },
  {
   "cell_type": "markdown",
   "id": "dcce77d5",
   "metadata": {},
   "source": [
    "## Lists\n",
    "Mutable Sequence, typically used to store collections of homogeneous items.\n",
    "\n",
    "List는 아래와 같은 방법으로 생성이 가능합니다.\n",
    "\n",
    "* `[ ]` : empty list\n",
    "* `[a]` : 하나의 item을 가진 list\n",
    "* `[a, b, c]` :  comma로 구분되는 item을 가진 list\n",
    "* `list(iterable)`\n",
    "* list comprehension : `[x for x in iterable]`\n",
    "\n",
    "> list comprehensions\n",
    ": Python은 list를 생성할 때 각각의 item을 생성하는 조건을 기술하여 만들 수 있는 표현은 제공합니다. generator expressions과 비슷하며 단지 ( ) 대신 [ ] 을 사용합니다.\n",
    "https://docs.python.org/3.6/tutorial/datastructures.html#list-comprehensions\n"
   ]
  },
  {
   "cell_type": "code",
   "execution_count": 23,
   "id": "671f3dab",
   "metadata": {},
   "outputs": [
    {
     "data": {
      "text/plain": [
       "[0, 1, 4]"
      ]
     },
     "execution_count": 23,
     "metadata": {},
     "output_type": "execute_result"
    }
   ],
   "source": [
    "[x**2 for x in range(3)]"
   ]
  },
  {
   "cell_type": "code",
   "execution_count": 24,
   "id": "303cba0b",
   "metadata": {},
   "outputs": [
    {
     "data": {
      "text/plain": [
       "[0.5, 1.5, 2.5, 3.5, 4.5]"
      ]
     },
     "execution_count": 24,
     "metadata": {},
     "output_type": "execute_result"
    }
   ],
   "source": [
    "[i / 2 for i in range(10) if i % 2 == 1]"
   ]
  },
  {
   "cell_type": "code",
   "execution_count": 25,
   "id": "84ff30ef",
   "metadata": {},
   "outputs": [
    {
     "data": {
      "text/plain": [
       "[(0, 0), (1, 1), (2, 2)]"
      ]
     },
     "execution_count": 25,
     "metadata": {},
     "output_type": "execute_result"
    }
   ],
   "source": [
    "[(x, y) for x in range(3) for y in range(3) if x == y]"
   ]
  },
  {
   "cell_type": "code",
   "execution_count": 26,
   "id": "c681c44e",
   "metadata": {},
   "outputs": [
    {
     "data": {
      "text/plain": [
       "[[0, 1, 2], [1, 2, 3], [2, 3, 4]]"
      ]
     },
     "execution_count": 26,
     "metadata": {},
     "output_type": "execute_result"
    }
   ],
   "source": [
    "[[x for x in range(y, y + 3)] for y in range(3)]"
   ]
  },
  {
   "cell_type": "markdown",
   "id": "84c08f86",
   "metadata": {},
   "source": [
    "## Tuples\n",
    "Immutable Sequence, typically used to store collections of heterogeneous data.\n",
    "\n",
    "Tuples는 아래와 같은 방법으로 생성이 가능합니다.\n",
    "\n",
    "* ( ) : empty tuple\n",
    "* a, or (a, ) : 아이템이 하나인 tuple\n",
    "* a, b, c or (a, b, c)\n",
    "* tuple() or tuple(iterable)"
   ]
  },
  {
   "cell_type": "code",
   "execution_count": 27,
   "id": "49377211",
   "metadata": {},
   "outputs": [
    {
     "data": {
      "text/plain": [
       "()"
      ]
     },
     "execution_count": 27,
     "metadata": {},
     "output_type": "execute_result"
    }
   ],
   "source": [
    "() # empty tuple"
   ]
  },
  {
   "cell_type": "code",
   "execution_count": 28,
   "id": "b94e8e31",
   "metadata": {},
   "outputs": [
    {
     "data": {
      "text/plain": [
       "(1,)"
      ]
     },
     "execution_count": 28,
     "metadata": {},
     "output_type": "execute_result"
    }
   ],
   "source": [
    "(1,) # single item"
   ]
  },
  {
   "cell_type": "code",
   "execution_count": 29,
   "id": "1426a9f7",
   "metadata": {},
   "outputs": [
    {
     "data": {
      "text/plain": [
       "('a',)"
      ]
     },
     "execution_count": 29,
     "metadata": {},
     "output_type": "execute_result"
    }
   ],
   "source": [
    "'a', # single item"
   ]
  },
  {
   "cell_type": "code",
   "execution_count": 30,
   "id": "e5339ffe",
   "metadata": {},
   "outputs": [
    {
     "data": {
      "text/plain": [
       "1"
      ]
     },
     "execution_count": 30,
     "metadata": {},
     "output_type": "execute_result"
    }
   ],
   "source": [
    "(1) # warning: this means integer 1"
   ]
  },
  {
   "cell_type": "code",
   "execution_count": 31,
   "id": "3d380a95",
   "metadata": {},
   "outputs": [
    {
     "ename": "SyntaxError",
     "evalue": "invalid syntax (2563238029.py, line 1)",
     "output_type": "error",
     "traceback": [
      "\u001b[0;36m  File \u001b[0;32m\"/var/folders/6g/sdgwjcm51kn8l9zx06n9ww800000gn/T/ipykernel_25927/2563238029.py\"\u001b[0;36m, line \u001b[0;32m1\u001b[0m\n\u001b[0;31m    (,) # invalid syntax\u001b[0m\n\u001b[0m     ^\u001b[0m\n\u001b[0;31mSyntaxError\u001b[0m\u001b[0;31m:\u001b[0m invalid syntax\n"
     ]
    }
   ],
   "source": [
    "(,) # invalid syntax"
   ]
  },
  {
   "cell_type": "code",
   "execution_count": 32,
   "id": "3b77db0e",
   "metadata": {},
   "outputs": [
    {
     "data": {
      "text/plain": [
       "('a', 'b')"
      ]
     },
     "execution_count": 32,
     "metadata": {},
     "output_type": "execute_result"
    }
   ],
   "source": [
    "'a', 'b' # two items"
   ]
  },
  {
   "cell_type": "code",
   "execution_count": 33,
   "id": "e0438c03",
   "metadata": {},
   "outputs": [
    {
     "data": {
      "text/plain": [
       "(1, 2, 3)"
      ]
     },
     "execution_count": 33,
     "metadata": {},
     "output_type": "execute_result"
    }
   ],
   "source": [
    "tuple([1, 2, 3]) # tuple from iterable"
   ]
  },
  {
   "cell_type": "code",
   "execution_count": 34,
   "id": "c6840352",
   "metadata": {},
   "outputs": [
    {
     "data": {
      "text/plain": [
       "(0, 1, 2)"
      ]
     },
     "execution_count": 34,
     "metadata": {},
     "output_type": "execute_result"
    }
   ],
   "source": [
    "tuple(i for i in range(3)) # tuple from generator expression"
   ]
  },
  {
   "cell_type": "markdown",
   "id": "9a69a318",
   "metadata": {},
   "source": [
    "## Ranges\n",
    "Immutable sequence of number를 나타내는데 사용되며, 일반적으로 for loop 내에서 몇번 반복할지를 위해 빈번하게 사용됩니다.\n",
    "\n",
    "range는 아래와 같은 방법으로 생성이 가능합니다.\n",
    "\n",
    "* range(stop)\n",
    "* range(start, stop)\n",
    "* range(start, stop, step)"
   ]
  },
  {
   "cell_type": "code",
   "execution_count": 35,
   "id": "6b836730",
   "metadata": {},
   "outputs": [
    {
     "data": {
      "text/plain": [
       "[0, 1, 2, 3, 4]"
      ]
     },
     "execution_count": 35,
     "metadata": {},
     "output_type": "execute_result"
    }
   ],
   "source": [
    "list(range(5))"
   ]
  },
  {
   "cell_type": "code",
   "execution_count": 36,
   "id": "d1fc3070",
   "metadata": {},
   "outputs": [
    {
     "data": {
      "text/plain": [
       "[1, 2, 3, 4]"
      ]
     },
     "execution_count": 36,
     "metadata": {},
     "output_type": "execute_result"
    }
   ],
   "source": [
    "list(range(1, 5))"
   ]
  },
  {
   "cell_type": "code",
   "execution_count": 37,
   "id": "3a4dd245",
   "metadata": {},
   "outputs": [
    {
     "data": {
      "text/plain": [
       "[1, 3]"
      ]
     },
     "execution_count": 37,
     "metadata": {},
     "output_type": "execute_result"
    }
   ],
   "source": [
    "list(range(1, 5, 2))"
   ]
  },
  {
   "cell_type": "markdown",
   "id": "55c87065",
   "metadata": {},
   "source": [
    "# Text Sequence Type\n",
    "string literals\n",
    "\n",
    "```\n",
    "'aBc'\n",
    "\"AbC\"\n",
    "  \n",
    "'''\n",
    "Hello\n",
    "World\n",
    "!!!\n",
    "'''\n",
    "  \n",
    "\"\"\"\n",
    "Welcome\n",
    "Python\n",
    "\"\"\"\n",
    "```\n",
    "\n",
    "string class\n",
    "\n",
    "```\n",
    "str(123)\n",
    "str('123')\n",
    "str(\"ABC\")\n",
    "```"
   ]
  },
  {
   "cell_type": "markdown",
   "id": "f930b914",
   "metadata": {},
   "source": [
    "## string formatting"
   ]
  },
  {
   "cell_type": "code",
   "execution_count": 38,
   "id": "c9431168",
   "metadata": {},
   "outputs": [
    {
     "data": {
      "text/plain": [
       "'123 ... abcd'"
      ]
     },
     "execution_count": 38,
     "metadata": {},
     "output_type": "execute_result"
    }
   ],
   "source": [
    "\"{} ... {}\".format(123, 'abcd')"
   ]
  },
  {
   "cell_type": "code",
   "execution_count": 39,
   "id": "25a3ad51",
   "metadata": {},
   "outputs": [
    {
     "data": {
      "text/plain": [
       "'abcd ... 123'"
      ]
     },
     "execution_count": 39,
     "metadata": {},
     "output_type": "execute_result"
    }
   ],
   "source": [
    "\"{1} ... {0}\".format(123, 'abcd')"
   ]
  },
  {
   "cell_type": "code",
   "execution_count": 40,
   "id": "69b91678",
   "metadata": {},
   "outputs": [
    {
     "data": {
      "text/plain": [
       "'3.14 ... 3.140'"
      ]
     },
     "execution_count": 40,
     "metadata": {},
     "output_type": "execute_result"
    }
   ],
   "source": [
    "\"{} ... {:.3f}\".format(3.14, 3.14)"
   ]
  },
  {
   "cell_type": "code",
   "execution_count": 41,
   "id": "44f308ff",
   "metadata": {},
   "outputs": [
    {
     "data": {
      "text/plain": [
       "'3 ... 3.140'"
      ]
     },
     "execution_count": 41,
     "metadata": {},
     "output_type": "execute_result"
    }
   ],
   "source": [
    "\"{:d} ... {:.3f}\".format(3, 3.14)"
   ]
  },
  {
   "cell_type": "code",
   "execution_count": 42,
   "id": "47b5bc8f",
   "metadata": {},
   "outputs": [
    {
     "ename": "ValueError",
     "evalue": "Unknown format code 'd' for object of type 'float'",
     "output_type": "error",
     "traceback": [
      "\u001b[0;31m---------------------------------------------------------------------------\u001b[0m",
      "\u001b[0;31mValueError\u001b[0m                                Traceback (most recent call last)",
      "\u001b[0;32m/var/folders/6g/sdgwjcm51kn8l9zx06n9ww800000gn/T/ipykernel_25927/137063449.py\u001b[0m in \u001b[0;36m<module>\u001b[0;34m\u001b[0m\n\u001b[1;32m      1\u001b[0m \u001b[0;31m# warning: auto typecasting is not supported\u001b[0m\u001b[0;34m\u001b[0m\u001b[0;34m\u001b[0m\u001b[0;34m\u001b[0m\u001b[0m\n\u001b[0;32m----> 2\u001b[0;31m \u001b[0;34m\"{:d} ... {:.3f}\"\u001b[0m\u001b[0;34m.\u001b[0m\u001b[0mformat\u001b[0m\u001b[0;34m(\u001b[0m\u001b[0;36m3.14\u001b[0m\u001b[0;34m,\u001b[0m \u001b[0;36m3.14\u001b[0m\u001b[0;34m)\u001b[0m\u001b[0;34m\u001b[0m\u001b[0;34m\u001b[0m\u001b[0m\n\u001b[0m",
      "\u001b[0;31mValueError\u001b[0m: Unknown format code 'd' for object of type 'float'"
     ]
    }
   ],
   "source": [
    "# warning: auto typecasting is not supported\n",
    "\"{:d} ... {:.3f}\".format(3.14, 3.14) "
   ]
  },
  {
   "cell_type": "code",
   "execution_count": 43,
   "id": "7d0ed7c9",
   "metadata": {},
   "outputs": [
    {
     "data": {
      "text/plain": [
       "'int: 17, hex: 0x11; oct: 0o21, bin: 0b10001, aaa'"
      ]
     },
     "execution_count": 43,
     "metadata": {},
     "output_type": "execute_result"
    }
   ],
   "source": [
    "# referencing w/ index\n",
    "\"int: {0:d}, hex: {0:#x}; oct: {0:#o}, bin: {0:#b}, {1}\".format(17, 'aaa')"
   ]
  },
  {
   "cell_type": "code",
   "execution_count": 44,
   "id": "90b4d8dd",
   "metadata": {},
   "outputs": [
    {
     "data": {
      "text/plain": [
       "('3.140 ... 003', '3.1 ... 001')"
      ]
     },
     "execution_count": 44,
     "metadata": {},
     "output_type": "execute_result"
    }
   ],
   "source": [
    "# formatting with %\n",
    "\"%.3f ... %03d\" % (3.14, 3.14), \"%(pi).1f ... %(number)03d\" % {'number': 1, 'pi': 3.14 }"
   ]
  },
  {
   "cell_type": "code",
   "execution_count": 45,
   "id": "58367440",
   "metadata": {},
   "outputs": [
    {
     "data": {
      "text/plain": [
       "'3.14 ... 3.14000'"
      ]
     },
     "execution_count": 45,
     "metadata": {},
     "output_type": "execute_result"
    }
   ],
   "source": [
    "# formatting with fstring (>=python3.6 only)\n",
    "a = 3.14\n",
    "f'{a} ... {a:#.5f}'"
   ]
  },
  {
   "cell_type": "markdown",
   "id": "a80bc7b9",
   "metadata": {},
   "source": [
    "더 다양한 예제들은 아래 페이지를 참고하시면 됩니다.\n",
    "\n",
    "* https://docs.python.org/3.8/library/string.html#format-examples"
   ]
  },
  {
   "cell_type": "markdown",
   "id": "1101a053",
   "metadata": {},
   "source": [
    "# Mapping Types - dict\n",
    "A mapping object maps hasable values to arbitrary objects. Mappings are mutable objects.\n",
    "\n",
    "dict는 아래와 같은 방법으로 생성이 가능합니다.\n",
    "\n",
    "* `{}`\n",
    "* `{key1: value1, key2:value2, ... } `\n",
    "* `dict(**kwarg)`\n",
    "* `dict(mapping, **kwarg)`\n",
    "* `dict(iterable, ** kwarg)`"
   ]
  },
  {
   "cell_type": "code",
   "execution_count": 46,
   "id": "1c0b7eec",
   "metadata": {},
   "outputs": [
    {
     "data": {
      "text/plain": [
       "{'a': 123}"
      ]
     },
     "execution_count": 46,
     "metadata": {},
     "output_type": "execute_result"
    }
   ],
   "source": [
    "{'a': 123}"
   ]
  },
  {
   "cell_type": "code",
   "execution_count": 47,
   "id": "14531008",
   "metadata": {},
   "outputs": [
    {
     "data": {
      "text/plain": [
       "{'b': 1234}"
      ]
     },
     "execution_count": 47,
     "metadata": {},
     "output_type": "execute_result"
    }
   ],
   "source": [
    "dict(b=1234)"
   ]
  },
  {
   "cell_type": "code",
   "execution_count": 48,
   "id": "eb358c9e",
   "metadata": {},
   "outputs": [
    {
     "data": {
      "text/plain": [
       "{'c': 123, 'd': 234}"
      ]
     },
     "execution_count": 48,
     "metadata": {},
     "output_type": "execute_result"
    }
   ],
   "source": [
    "dict(c=123, d=234)"
   ]
  },
  {
   "cell_type": "code",
   "execution_count": 49,
   "id": "9b4afefc",
   "metadata": {},
   "outputs": [
    {
     "data": {
      "text/plain": [
       "{'e': 123, 'f': 234}"
      ]
     },
     "execution_count": 49,
     "metadata": {},
     "output_type": "execute_result"
    }
   ],
   "source": [
    "dict({'e':123}, f=234)"
   ]
  },
  {
   "cell_type": "code",
   "execution_count": 50,
   "id": "3027f279",
   "metadata": {},
   "outputs": [
    {
     "data": {
      "text/plain": [
       "{0: 'str0', 1: 'str1', 2: 'str2'}"
      ]
     },
     "execution_count": 50,
     "metadata": {},
     "output_type": "execute_result"
    }
   ],
   "source": [
    "g = ((x, 'str'+str(x)) for x in range(3))\n",
    "dict(g)"
   ]
  },
  {
   "cell_type": "code",
   "execution_count": 51,
   "id": "aec4e1d8",
   "metadata": {},
   "outputs": [
    {
     "data": {
      "text/plain": [
       "{'k0': 999, 'k1': 'str1', 'k2': 'str2', 'a': 111, 'b': 222}"
      ]
     },
     "execution_count": 51,
     "metadata": {},
     "output_type": "execute_result"
    }
   ],
   "source": [
    "g = (('k'+str(x), 'str'+str(x)) for x in range(3))\n",
    "dict(g, a=111, b=222, k0=999)"
   ]
  },
  {
   "cell_type": "markdown",
   "id": "0654fd22",
   "metadata": {},
   "source": [
    "dict는 아래와 같은 method들을 지원합니다.\n",
    "\n",
    "| operation | description |\n",
    "| --- | --- |\n",
    "| `len(d)`\t| Return the number of items in the dictionary d. |\n",
    "| `d[key]`\t| Return the item of d with key key. Raises a KeyError if key is not in the map |\n",
    "| `d[key] = value`\t| Set `d[key]` to value |\n",
    "| `del d[key]`\t| Remove `d[key]` from `d`. Raise KeyError if key is not in the map |\n",
    "| `key in d`\t| Return True if d has a key key, else False |\n",
    "| `key not in d`\t| Equivalent to not key in d |\n",
    "| `iter(d)`\t| Return an iterator over the keys of the dictionary. This is a shortcut `for iter(d.keys())` |\n",
    "| `clear()`\t | |\n",
    "| `copy()`\t | |\n",
    "| `items()`\t| Returns a new view of the dictionary's items (`(key, value)` pairs) |\n",
    "| `keys()`\t| Returns a new view of the dictionary's keys |\n",
    "| `values()`\t| Returns a new view of the dictionary's values |\n",
    "| `pop(key)`\t| If key is in the dictionary, remove it and return its value |\n",
    "| `popitem()`\t| Removes and return an arbitrary `(key, value)` pair from the dictionary |\n",
    "\n",
    "mutable object이기 때문에 추가로 값을 지정하거나 변경하는 것도 가능합니다."
   ]
  },
  {
   "cell_type": "code",
   "execution_count": 52,
   "id": "c95de60e",
   "metadata": {},
   "outputs": [],
   "source": [
    "d = {}"
   ]
  },
  {
   "cell_type": "code",
   "execution_count": 53,
   "id": "a3a4f899",
   "metadata": {},
   "outputs": [
    {
     "data": {
      "text/plain": [
       "{'a': 123}"
      ]
     },
     "execution_count": 53,
     "metadata": {},
     "output_type": "execute_result"
    }
   ],
   "source": [
    "d['a'] = 123\n",
    "d"
   ]
  },
  {
   "cell_type": "code",
   "execution_count": 54,
   "id": "e0b632a4",
   "metadata": {},
   "outputs": [
    {
     "data": {
      "text/plain": [
       "{'a': 123, 'b': 234}"
      ]
     },
     "execution_count": 54,
     "metadata": {},
     "output_type": "execute_result"
    }
   ],
   "source": [
    "d['b'] = 234\n",
    "d"
   ]
  },
  {
   "cell_type": "code",
   "execution_count": 55,
   "id": "714e231b",
   "metadata": {},
   "outputs": [
    {
     "data": {
      "text/plain": [
       "dict_keys(['a', 'b'])"
      ]
     },
     "execution_count": 55,
     "metadata": {},
     "output_type": "execute_result"
    }
   ],
   "source": [
    "d.keys()"
   ]
  },
  {
   "cell_type": "code",
   "execution_count": 56,
   "id": "1f28d1f6",
   "metadata": {},
   "outputs": [
    {
     "data": {
      "text/plain": [
       "dict_values([123, 234])"
      ]
     },
     "execution_count": 56,
     "metadata": {},
     "output_type": "execute_result"
    }
   ],
   "source": [
    "d.values()"
   ]
  },
  {
   "cell_type": "code",
   "execution_count": 57,
   "id": "06d6c477",
   "metadata": {},
   "outputs": [
    {
     "name": "stdout",
     "output_type": "stream",
     "text": [
      "111 a 123\n",
      "111 b 234\n"
     ]
    }
   ],
   "source": [
    "for k, v in d.items():\n",
    "    print(111, k, v)"
   ]
  },
  {
   "cell_type": "markdown",
   "id": "acc70b07",
   "metadata": {},
   "source": [
    "# Set Types - set, frozenset\n",
    "Set and frozenset is an unordered collection of immutable values.\n",
    "\n",
    "Common uses include membership testing, removing duplicates from a sequence, and computing mathematical operations such as intersection, union, difference, and symmetric difference.\n",
    "\n",
    "set은 아래와 같은 방법으로 생성이 가능하며,\n",
    "\n",
    "* { a, b, c }\n",
    "* set(iterable)\n",
    "\n",
    "frozenset은 아래와 같은 방법으로 생성이 가능합니다.\n",
    "\n",
    "* frozenset(iterable)\n",
    "\n",
    "set과 frozenset은 아래와 같은 operation들을 지원합니다.\n",
    "\n",
    "| operation | equivalent | description |\n",
    "| --- | --- | --- |\n",
    "| len(s)\t| | cardinality of set s |\n",
    "| x in s\t| | test x for membership in s |\n",
    "| x not i s\t| | test x for non-membership in s |\n",
    "| s.issubset(t)\t\t| `s <= t` \t| test whether every element in s is in t |\n",
    "| s.isuperset(t)\t| `s >= t`\t| test whether every element in t is in s |\n",
    "| s.union(t)\t| `s \\| t`\t| new set with elements from both s and t |\n",
    "| s.intersection(t)\t| `s & t`\t| new set with elements common to s and t |\n",
    "| s.difference(t)\t| `s - t`\t| new set with elements in s but not in t |\n",
    "| s.symmetric_difference(t)\t| `s ^ t`\t| new set with elements in either s or t but not both |\n",
    "| s.copy()\t| | new set with a shallow copy of s |\n",
    "\n",
    "아래의 operation들은 immutable instance인 frozenset에는 사용할 수 없습니다.\n",
    "\n",
    "| operation | equivalent | description |\n",
    "| --- | --- | --- |\n",
    "| s.update(t)\t| `s \\|= t`\t| update set s, adding elements from t |\n",
    "| s.intersection_update(t)\t| `s &= t`\t| update set s, keeping only element found in both s and t |\n",
    "| s.difference_update(t)\t| `s -= t`\t| update set s, removing elements found in t |\n",
    "| s.symmetric_difference_update(t)\t| `s ^= t`\t| update set s, keeping only elements found in either s or t but not in both |\n",
    "| s.add(x)\t| | add element x to set s |\n",
    "| s.remove(x)\t| | remove x from set s;raises KeyError if not present |\n",
    "| s.discard(x)\t| | remove x from set s if present |\n",
    "| s.pop()\t| | remove and return an arbitrary element from s; raises KeyError if empty |\n",
    "| s.clear()\t| | remove all elements from set s |\n"
   ]
  },
  {
   "cell_type": "markdown",
   "id": "19badcc5",
   "metadata": {},
   "source": [
    "# Binary Sequence Types - bytes, bytearray, memoryview\n",
    "더이상의 자세한 설명은 생략한다.\n",
    "\n",
    "# Other Built-in Types\n",
    "...\n"
   ]
  },
  {
   "cell_type": "code",
   "execution_count": null,
   "id": "f2b484d3",
   "metadata": {},
   "outputs": [],
   "source": []
  }
 ],
 "metadata": {
  "kernelspec": {
   "display_name": "Python 3 (ipykernel)",
   "language": "python",
   "name": "python3"
  },
  "language_info": {
   "codemirror_mode": {
    "name": "ipython",
    "version": 3
   },
   "file_extension": ".py",
   "mimetype": "text/x-python",
   "name": "python",
   "nbconvert_exporter": "python",
   "pygments_lexer": "ipython3",
   "version": "3.8.12"
  }
 },
 "nbformat": 4,
 "nbformat_minor": 5
}
