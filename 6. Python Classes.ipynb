{
 "cells": [
  {
   "cell_type": "markdown",
   "id": "2bf646ce",
   "metadata": {},
   "source": [
    "# Class\n",
    "class를 정의하기 위한 기본 문법은 아래와 같습니다. (일반적으로 파이썬에서 클래스명은 PascalCase로 작성합니다.)\n",
    "\n",
    "> Camel Case\n",
    "> * \"camelCase\"\n",
    "> * 각 단어의 첫문자를 대문자로 표기하고 붙여쓰되, 맨처음 문자는 소문자로 표기함\n",
    "> * 띄어쓰기 대신 대문자로 단어를 구분하는 표기 방식\n",
    "> * 예시: backgroundColor, typeName, iPhone\n",
    ">\n",
    "> Pascal Case\n",
    "> * \"PascalCase\"\n",
    "> * 첫 단어를 대문자로 시작하는 표기법\n",
    "> * 예시: BackgroundColor, TypeName, PowerPoint\n",
    ">\n",
    "> Snake Case\n",
    "> * \"snake_case\"\n",
    "> * 단어를 밑줄문자로 구분하는 표기법\n",
    "> * 예시: background_color, type_name\n"
   ]
  },
  {
   "cell_type": "code",
   "execution_count": 1,
   "id": "d1daac31",
   "metadata": {},
   "outputs": [],
   "source": [
    "class ParentClass:\n",
    "    pass\n",
    "\n",
    "class MyClass(ParentClass):\n",
    "    class_attribute1 = ''\n",
    "    class_attribute2 = ''\n",
    "\n",
    "    # instance method\n",
    "    def method(self):\n",
    "        pass\n",
    "\n",
    "    @staticmethod\n",
    "    def static_method():\n",
    "        pass\n",
    "\n",
    "    @classmethod\n",
    "    def class_method(cls):\n",
    "        pass"
   ]
  },
  {
   "cell_type": "markdown",
   "id": "95f39a7c",
   "metadata": {},
   "source": [
    "위에서 정의한 class를 이용해서 인스턴스를 생성하고 활용하려면 아래와 같이 하면 됩니다."
   ]
  },
  {
   "cell_type": "code",
   "execution_count": 2,
   "id": "4699285e",
   "metadata": {},
   "outputs": [],
   "source": [
    "c = MyClass()"
   ]
  },
  {
   "cell_type": "code",
   "execution_count": 3,
   "id": "daade5c3",
   "metadata": {},
   "outputs": [
    {
     "data": {
      "text/plain": [
       "''"
      ]
     },
     "execution_count": 3,
     "metadata": {},
     "output_type": "execute_result"
    }
   ],
   "source": [
    "c.class_attribute1"
   ]
  },
  {
   "cell_type": "code",
   "execution_count": 4,
   "id": "06d58584",
   "metadata": {},
   "outputs": [],
   "source": [
    "c.method()"
   ]
  },
  {
   "cell_type": "markdown",
   "id": "edf57eb3",
   "metadata": {},
   "source": [
    "method를 호출할 때 첫번째 인자(self)는 자동으로 채워집니다."
   ]
  },
  {
   "cell_type": "code",
   "execution_count": 5,
   "id": "ab932c2a",
   "metadata": {},
   "outputs": [
    {
     "name": "stdout",
     "output_type": "stream",
     "text": [
      "Hello\n"
     ]
    }
   ],
   "source": [
    "class Ex:\n",
    "    def method(self):\n",
    "        print(\"Hello\")\n",
    "        \n",
    "        \n",
    "ex = Ex()\n",
    "ex.method() # evaluated as \"method(ex)\""
   ]
  },
  {
   "cell_type": "markdown",
   "id": "bfa09eeb",
   "metadata": {},
   "source": [
    "## Attribute\n",
    "`obj.blah` 식으로 접근하는 멤버 변수들을 python에서는 attribute라고 부릅니다."
   ]
  },
  {
   "cell_type": "code",
   "execution_count": 6,
   "id": "a76c55c5",
   "metadata": {},
   "outputs": [],
   "source": [
    "class Cls:\n",
    "    attribute_name = 'some_attribute_value'"
   ]
  },
  {
   "cell_type": "markdown",
   "id": "9c62c56a",
   "metadata": {},
   "source": [
    "위와 같이 class 내에서 바로 (static) attribute를 정의하는 것도 가능하며, 아래와 같이 method 내에서 instance의 attribute를 추가/업데이트하는 것도 가능합니다."
   ]
  },
  {
   "cell_type": "code",
   "execution_count": 7,
   "id": "ab59b059",
   "metadata": {},
   "outputs": [],
   "source": [
    "class Cls:\n",
    "    def some_method(self):\n",
    "        self.attribute_name = 'some_attribute_value'"
   ]
  },
  {
   "cell_type": "markdown",
   "id": "95023e26",
   "metadata": {},
   "source": [
    "attribute name에 prefix로 언더바 두개(\\_\\_)를 넣으면 private attribute이므로 클래스 외부에서 .attribute_name 과 같은 형식으로 접근할 수 없습니다."
   ]
  },
  {
   "cell_type": "code",
   "execution_count": 8,
   "id": "bb224993",
   "metadata": {},
   "outputs": [],
   "source": [
    "class Cls:\n",
    "    attr = 1\n",
    "    __attr = 2\n",
    "    \n",
    "    @classmethod\n",
    "    def print_private(cls):\n",
    "        print(cls.__attr)"
   ]
  },
  {
   "cell_type": "code",
   "execution_count": 9,
   "id": "b7f8898c",
   "metadata": {},
   "outputs": [
    {
     "data": {
      "text/plain": [
       "1"
      ]
     },
     "execution_count": 9,
     "metadata": {},
     "output_type": "execute_result"
    }
   ],
   "source": [
    "Cls.attr"
   ]
  },
  {
   "cell_type": "code",
   "execution_count": 10,
   "id": "1598254d",
   "metadata": {},
   "outputs": [
    {
     "ename": "AttributeError",
     "evalue": "type object 'Cls' has no attribute '__attr'",
     "output_type": "error",
     "traceback": [
      "\u001b[0;31m---------------------------------------------------------------------------\u001b[0m",
      "\u001b[0;31mAttributeError\u001b[0m                            Traceback (most recent call last)",
      "\u001b[0;32m/var/folders/6g/sdgwjcm51kn8l9zx06n9ww800000gn/T/ipykernel_47786/797459181.py\u001b[0m in \u001b[0;36m<module>\u001b[0;34m\u001b[0m\n\u001b[0;32m----> 1\u001b[0;31m \u001b[0mCls\u001b[0m\u001b[0;34m.\u001b[0m\u001b[0m__attr\u001b[0m\u001b[0;34m\u001b[0m\u001b[0;34m\u001b[0m\u001b[0m\n\u001b[0m",
      "\u001b[0;31mAttributeError\u001b[0m: type object 'Cls' has no attribute '__attr'"
     ]
    }
   ],
   "source": [
    "Cls.__attr"
   ]
  },
  {
   "cell_type": "code",
   "execution_count": 11,
   "id": "59d19568",
   "metadata": {},
   "outputs": [
    {
     "name": "stdout",
     "output_type": "stream",
     "text": [
      "2\n"
     ]
    }
   ],
   "source": [
    "Cls.print_private()"
   ]
  },
  {
   "cell_type": "markdown",
   "id": "08791e18",
   "metadata": {},
   "source": [
    "private attribute는 상속을 받은 클래스에서도 접근할 수 없습니다."
   ]
  },
  {
   "cell_type": "code",
   "execution_count": 12,
   "id": "584746a7",
   "metadata": {},
   "outputs": [
    {
     "ename": "AttributeError",
     "evalue": "type object 'Child' has no attribute '_Child__attr'",
     "output_type": "error",
     "traceback": [
      "\u001b[0;31m---------------------------------------------------------------------------\u001b[0m",
      "\u001b[0;31mAttributeError\u001b[0m                            Traceback (most recent call last)",
      "\u001b[0;32m/var/folders/6g/sdgwjcm51kn8l9zx06n9ww800000gn/T/ipykernel_47786/2866192377.py\u001b[0m in \u001b[0;36m<module>\u001b[0;34m\u001b[0m\n\u001b[1;32m      4\u001b[0m         \u001b[0mprint\u001b[0m\u001b[0;34m(\u001b[0m\u001b[0mcls\u001b[0m\u001b[0;34m.\u001b[0m\u001b[0m__attr\u001b[0m\u001b[0;34m)\u001b[0m\u001b[0;34m\u001b[0m\u001b[0;34m\u001b[0m\u001b[0m\n\u001b[1;32m      5\u001b[0m \u001b[0;34m\u001b[0m\u001b[0m\n\u001b[0;32m----> 6\u001b[0;31m \u001b[0mChild\u001b[0m\u001b[0;34m.\u001b[0m\u001b[0mprint\u001b[0m\u001b[0;34m(\u001b[0m\u001b[0;34m)\u001b[0m\u001b[0;34m\u001b[0m\u001b[0;34m\u001b[0m\u001b[0m\n\u001b[0m",
      "\u001b[0;32m/var/folders/6g/sdgwjcm51kn8l9zx06n9ww800000gn/T/ipykernel_47786/2866192377.py\u001b[0m in \u001b[0;36mprint\u001b[0;34m(cls)\u001b[0m\n\u001b[1;32m      2\u001b[0m     \u001b[0;34m@\u001b[0m\u001b[0mclassmethod\u001b[0m\u001b[0;34m\u001b[0m\u001b[0;34m\u001b[0m\u001b[0m\n\u001b[1;32m      3\u001b[0m     \u001b[0;32mdef\u001b[0m \u001b[0mprint\u001b[0m\u001b[0;34m(\u001b[0m\u001b[0mcls\u001b[0m\u001b[0;34m)\u001b[0m\u001b[0;34m:\u001b[0m\u001b[0;34m\u001b[0m\u001b[0;34m\u001b[0m\u001b[0m\n\u001b[0;32m----> 4\u001b[0;31m         \u001b[0mprint\u001b[0m\u001b[0;34m(\u001b[0m\u001b[0mcls\u001b[0m\u001b[0;34m.\u001b[0m\u001b[0m__attr\u001b[0m\u001b[0;34m)\u001b[0m\u001b[0;34m\u001b[0m\u001b[0;34m\u001b[0m\u001b[0m\n\u001b[0m\u001b[1;32m      5\u001b[0m \u001b[0;34m\u001b[0m\u001b[0m\n\u001b[1;32m      6\u001b[0m \u001b[0mChild\u001b[0m\u001b[0;34m.\u001b[0m\u001b[0mprint\u001b[0m\u001b[0;34m(\u001b[0m\u001b[0;34m)\u001b[0m\u001b[0;34m\u001b[0m\u001b[0;34m\u001b[0m\u001b[0m\n",
      "\u001b[0;31mAttributeError\u001b[0m: type object 'Child' has no attribute '_Child__attr'"
     ]
    }
   ],
   "source": [
    "class Child(Cls):\n",
    "    @classmethod\n",
    "    def print(cls):\n",
    "        print(cls.__attr)\n",
    "\n",
    "Child.print()"
   ]
  },
  {
   "cell_type": "markdown",
   "id": "9bc4854d",
   "metadata": {},
   "source": [
    "## Method\n",
    "attribute 형태를 가지는 function은 `method`라고 부릅니다. \n",
    "\n",
    "* static method: \n",
    " * `@staticmethod` 로 시작 \n",
    " * 인자로 self나 class instance를 받을 필요가 없으며, attribute에 전혀 접근할 필요 없는 경우에 사용합니다. \n",
    " * 인스턴스를 생성하지 않은 상태에서도 ClassType.method()와 같은 식으로 사용이 가능합니다.\n",
    "* class method: \n",
    " * `@classmethod` 로 시작\n",
    " * 첫번째 인자로 class instance를 가지는 method\n",
    " * instance attribute는 접근할 일이 없으나 해당 class의 class/static attribute/method에 접근해야 하는 경우에 사용합니다.\n",
    " * staticmethod와 마찬가지로 인스턴스를 생성하지 않은 상태에서도 ClassType.method()와 같은 식으로 사용이 가능합니다. \n",
    "* instance method: \n",
    " * 첫번째 인자로 self를 받으며, method를 호출할 때는 첫번째 인자는 생략됩니다.\n",
    "\n",
    "C++ 등과는 다르게 instance의 attribute/method를 활용하기 위해서는 `self.attribute_name`, `self.method_name()`과 같이 앞에 `self.`를 붙여줘야 하며, method overloading(같은 이름에 argument 형식만 다르게 여러 method들을 정의)을 지원하지 않습니다."
   ]
  },
  {
   "cell_type": "code",
   "execution_count": 13,
   "id": "213dae29",
   "metadata": {},
   "outputs": [],
   "source": [
    "class Cls:\n",
    "    __version__ = 1.0\n",
    "\n",
    "    def __init__(self, name):\n",
    "        self.message = 'hello {}?'.format(name)\n",
    "    \n",
    "    def instance_method(self):\n",
    "        print(self.message)\n",
    "    \n",
    "    @staticmethod\n",
    "    def static_method():\n",
    "        print('hello?')\n",
    "    \n",
    "    @classmethod\n",
    "    def class_method(cls):\n",
    "        print('hello class version: %.1f' % cls.__version__)"
   ]
  },
  {
   "cell_type": "code",
   "execution_count": 14,
   "id": "06ae4498",
   "metadata": {},
   "outputs": [
    {
     "name": "stdout",
     "output_type": "stream",
     "text": [
      "hello?\n"
     ]
    }
   ],
   "source": [
    "Cls.static_method()"
   ]
  },
  {
   "cell_type": "code",
   "execution_count": 15,
   "id": "724c2120",
   "metadata": {},
   "outputs": [
    {
     "name": "stdout",
     "output_type": "stream",
     "text": [
      "hello class version: 1.0\n"
     ]
    }
   ],
   "source": [
    "Cls.class_method()"
   ]
  },
  {
   "cell_type": "code",
   "execution_count": 16,
   "id": "3aef49bf",
   "metadata": {},
   "outputs": [
    {
     "ename": "TypeError",
     "evalue": "instance_method() missing 1 required positional argument: 'self'",
     "output_type": "error",
     "traceback": [
      "\u001b[0;31m---------------------------------------------------------------------------\u001b[0m",
      "\u001b[0;31mTypeError\u001b[0m                                 Traceback (most recent call last)",
      "\u001b[0;32m/var/folders/6g/sdgwjcm51kn8l9zx06n9ww800000gn/T/ipykernel_47786/1467015044.py\u001b[0m in \u001b[0;36m<module>\u001b[0;34m\u001b[0m\n\u001b[0;32m----> 1\u001b[0;31m \u001b[0mCls\u001b[0m\u001b[0;34m.\u001b[0m\u001b[0minstance_method\u001b[0m\u001b[0;34m(\u001b[0m\u001b[0;34m)\u001b[0m\u001b[0;34m\u001b[0m\u001b[0;34m\u001b[0m\u001b[0m\n\u001b[0m",
      "\u001b[0;31mTypeError\u001b[0m: instance_method() missing 1 required positional argument: 'self'"
     ]
    }
   ],
   "source": [
    "Cls.instance_method()"
   ]
  },
  {
   "cell_type": "code",
   "execution_count": 17,
   "id": "9a3c9101",
   "metadata": {},
   "outputs": [],
   "source": [
    "cls = Cls('Openedges')"
   ]
  },
  {
   "cell_type": "code",
   "execution_count": 18,
   "id": "5f50cde2",
   "metadata": {},
   "outputs": [
    {
     "name": "stdout",
     "output_type": "stream",
     "text": [
      "hello?\n"
     ]
    }
   ],
   "source": [
    "cls.static_method()"
   ]
  },
  {
   "cell_type": "code",
   "execution_count": 19,
   "id": "a98d0aa9",
   "metadata": {},
   "outputs": [
    {
     "name": "stdout",
     "output_type": "stream",
     "text": [
      "hello class version: 1.0\n"
     ]
    }
   ],
   "source": [
    "cls.class_method()"
   ]
  },
  {
   "cell_type": "code",
   "execution_count": 20,
   "id": "b0d2b19d",
   "metadata": {},
   "outputs": [
    {
     "name": "stdout",
     "output_type": "stream",
     "text": [
      "hello Openedges?\n"
     ]
    }
   ],
   "source": [
    "cls.instance_method()"
   ]
  },
  {
   "cell_type": "markdown",
   "id": "2b404e9c",
   "metadata": {},
   "source": [
    "c++ 등에서처럼 호출 형태에 따른 오버로딩은 지원하지 않기 때문에 아래와 같이 같은 이름의 메쏘드가 여러개 정의된 경우 마지막에 정의된 메쏘드가 호출됩니다.\n"
   ]
  },
  {
   "cell_type": "code",
   "execution_count": 21,
   "id": "891e2098",
   "metadata": {},
   "outputs": [],
   "source": [
    "class Cls:\n",
    "    def method(self):\n",
    "        print(1)\n",
    "    def method(self, a):\n",
    "        print(a)\n",
    "\n",
    "c = Cls()"
   ]
  },
  {
   "cell_type": "code",
   "execution_count": 22,
   "id": "e4cfb87f",
   "metadata": {},
   "outputs": [
    {
     "ename": "TypeError",
     "evalue": "method() missing 1 required positional argument: 'a'",
     "output_type": "error",
     "traceback": [
      "\u001b[0;31m---------------------------------------------------------------------------\u001b[0m",
      "\u001b[0;31mTypeError\u001b[0m                                 Traceback (most recent call last)",
      "\u001b[0;32m/var/folders/6g/sdgwjcm51kn8l9zx06n9ww800000gn/T/ipykernel_47786/2048110741.py\u001b[0m in \u001b[0;36m<module>\u001b[0;34m\u001b[0m\n\u001b[0;32m----> 1\u001b[0;31m \u001b[0mc\u001b[0m\u001b[0;34m.\u001b[0m\u001b[0mmethod\u001b[0m\u001b[0;34m(\u001b[0m\u001b[0;34m)\u001b[0m\u001b[0;34m\u001b[0m\u001b[0;34m\u001b[0m\u001b[0m\n\u001b[0m",
      "\u001b[0;31mTypeError\u001b[0m: method() missing 1 required positional argument: 'a'"
     ]
    }
   ],
   "source": [
    "c.method()"
   ]
  },
  {
   "cell_type": "code",
   "execution_count": 23,
   "id": "0c8362f6",
   "metadata": {},
   "outputs": [
    {
     "name": "stdout",
     "output_type": "stream",
     "text": [
      "111\n"
     ]
    }
   ],
   "source": [
    "c.method(111)"
   ]
  },
  {
   "cell_type": "markdown",
   "id": "a88cec6e",
   "metadata": {},
   "source": [
    "## Property\n",
    "Property를 이용하면 클래스의 attribute를 접근할때 getter/setter method를 통하도록 만들 수 있으며 이를 통해 encapsulation 을 간단히 구현할 수 있습니다.\n",
    "\n",
    "값을 리턴해주는 메소드인 getter 쪽엔 `@property`를 사용하고, 값을 적용하는 메소드인 setter 쪽엔  `@method_name.setter` 를 붙여주면, 외부에서 접근할땐 `instance.method_name` 에 접근할 때 getter 혹은 setter가 호출됩니다."
   ]
  },
  {
   "cell_type": "code",
   "execution_count": 24,
   "id": "595b6181",
   "metadata": {},
   "outputs": [],
   "source": [
    "class Cls:\n",
    "    def __init__(self):\n",
    "        self.__value = 0\n",
    "        \n",
    "    @property\n",
    "    def value(self): # getter\n",
    "        print('getter(\"value\") is called')\n",
    "        \n",
    "        return self.__value\n",
    "    \n",
    "    @value.setter\n",
    "    def value(self, vvv):\n",
    "        print('setter is called')\n",
    "        \n",
    "        if (vvv < 0):\n",
    "            raise ValueError(\"value should be greater than or equal to 0\")\n",
    "            \n",
    "        self.__value = vvv\n",
    "        \n",
    "\n",
    "c = Cls()"
   ]
  },
  {
   "cell_type": "code",
   "execution_count": 25,
   "id": "9d12278f",
   "metadata": {},
   "outputs": [
    {
     "name": "stdout",
     "output_type": "stream",
     "text": [
      "setter is called\n"
     ]
    }
   ],
   "source": [
    "c.value = 1"
   ]
  },
  {
   "cell_type": "code",
   "execution_count": 26,
   "id": "008e2ee9",
   "metadata": {},
   "outputs": [
    {
     "name": "stdout",
     "output_type": "stream",
     "text": [
      "getter(\"value\") is called\n"
     ]
    },
    {
     "data": {
      "text/plain": [
       "1"
      ]
     },
     "execution_count": 26,
     "metadata": {},
     "output_type": "execute_result"
    }
   ],
   "source": [
    "c.value"
   ]
  },
  {
   "cell_type": "code",
   "execution_count": 27,
   "id": "9b4762d7",
   "metadata": {},
   "outputs": [
    {
     "name": "stdout",
     "output_type": "stream",
     "text": [
      "setter is called\n"
     ]
    },
    {
     "ename": "ValueError",
     "evalue": "value should be greater than or equal to 0",
     "output_type": "error",
     "traceback": [
      "\u001b[0;31m---------------------------------------------------------------------------\u001b[0m",
      "\u001b[0;31mValueError\u001b[0m                                Traceback (most recent call last)",
      "\u001b[0;32m/var/folders/6g/sdgwjcm51kn8l9zx06n9ww800000gn/T/ipykernel_47786/2706952071.py\u001b[0m in \u001b[0;36m<module>\u001b[0;34m\u001b[0m\n\u001b[0;32m----> 1\u001b[0;31m \u001b[0mc\u001b[0m\u001b[0;34m.\u001b[0m\u001b[0mvalue\u001b[0m \u001b[0;34m=\u001b[0m \u001b[0;34m-\u001b[0m\u001b[0;36m1\u001b[0m\u001b[0;34m\u001b[0m\u001b[0;34m\u001b[0m\u001b[0m\n\u001b[0m",
      "\u001b[0;32m/var/folders/6g/sdgwjcm51kn8l9zx06n9ww800000gn/T/ipykernel_47786/2889877839.py\u001b[0m in \u001b[0;36mvalue\u001b[0;34m(self, vvv)\u001b[0m\n\u001b[1;32m     14\u001b[0m \u001b[0;34m\u001b[0m\u001b[0m\n\u001b[1;32m     15\u001b[0m         \u001b[0;32mif\u001b[0m \u001b[0;34m(\u001b[0m\u001b[0mvvv\u001b[0m \u001b[0;34m<\u001b[0m \u001b[0;36m0\u001b[0m\u001b[0;34m)\u001b[0m\u001b[0;34m:\u001b[0m\u001b[0;34m\u001b[0m\u001b[0;34m\u001b[0m\u001b[0m\n\u001b[0;32m---> 16\u001b[0;31m             \u001b[0;32mraise\u001b[0m \u001b[0mValueError\u001b[0m\u001b[0;34m(\u001b[0m\u001b[0;34m\"value should be greater than or equal to 0\"\u001b[0m\u001b[0;34m)\u001b[0m\u001b[0;34m\u001b[0m\u001b[0;34m\u001b[0m\u001b[0m\n\u001b[0m\u001b[1;32m     17\u001b[0m \u001b[0;34m\u001b[0m\u001b[0m\n\u001b[1;32m     18\u001b[0m         \u001b[0mself\u001b[0m\u001b[0;34m.\u001b[0m\u001b[0m__value\u001b[0m \u001b[0;34m=\u001b[0m \u001b[0mvvv\u001b[0m\u001b[0;34m\u001b[0m\u001b[0;34m\u001b[0m\u001b[0m\n",
      "\u001b[0;31mValueError\u001b[0m: value should be greater than or equal to 0"
     ]
    }
   ],
   "source": [
    "c.value = -1"
   ]
  },
  {
   "cell_type": "markdown",
   "id": "cbc887a1",
   "metadata": {},
   "source": [
    "당연하지만 @property는 setter보다 먼저 정의되어야 합니다."
   ]
  },
  {
   "cell_type": "markdown",
   "id": "9b1af130",
   "metadata": {},
   "source": [
    "## Magic Method\n",
    "\n",
    "reference: https://corikachu.github.io/articles/python/python-magic-method\n",
    "\n",
    "### 생성 및 초기화\n",
    "* `__new__(cls[, ...])`: 새로운 인스턴스를 만들때 제일 처음으로 실행되는 메소드로 새로운 object를 반환해줍니다.\n",
    "* `__init__(self[, ...])`: 인스턴스가 __new__를 통해 생성된 후 호출되는 메소드입니다. 일반적으로 initializer 역할을 수행합니다.\n",
    "* `__call__(self[, ...])`: instance()와 같은 식으로 함수처럼 사용되었을 때 호출되는 메소드입니다.\n",
    "* `__del__(self)`: del을 통해 객체의 레퍼런스 카운터가 0까지 줄어들었을 때 호출되는 메소드로 destroyer 역할을 수행합니다.\n",
    "\n",
    "### 반복\n",
    "* `__iter__`: iterable 객체를 리턴해주는 메소드입니다.\n",
    "* `__next__`: iterator에서 다음 항목을 fetch하기 위한 메소드입니다. next()를 사용할 때 호출됩니다.\n",
    "\n",
    "### 속성관리\n",
    "* `__getattr__(self, name)`: 객체의 정의되지 않은 속성을 참조하려 할 때 호출됩니다.\n",
    "* `__getattribute__(self, name)`: 객체의 속성을 호출할때 호출됩니다. (정의되어 있는지 여부와 관계없이 무조건 호출됩니다.)\n",
    "* `__setattr__(self, name_value)`: 객체의 속성을 변경할때 호출됩니다. 이 메소드 내에서 객체의 값을 다시 변경하려고 하면 무한히 재귀 호출을 하는 상황에 빠질 수 있으므로 주의가 필요합니다.\n",
    "* `__delattr__(self, name)`: 객체의 속성을 del 키워드로 지울때 호출됩니다.\n",
    "* `__dir__(self)`: `dir()`을 사용할때 호출됩니다.\n",
    "* `__slots__`: 사용할 변수의 이름을 미리 정의하는데 사용합니다. `__slots__`가 지정된 경우 여기 포함되지 않은 이름들은 사용이 불가능합니다."
   ]
  },
  {
   "cell_type": "markdown",
   "id": "fa9b541c",
   "metadata": {},
   "source": [
    "slot 예제"
   ]
  },
  {
   "cell_type": "code",
   "execution_count": 28,
   "id": "5ecb6ebb",
   "metadata": {},
   "outputs": [],
   "source": [
    "class Slotted:\n",
    "    __slots__ = ('weight')\n",
    "\n",
    "    def __init__(self):\n",
    "        self.weight = 1.0\n",
    "\n",
    "a = Slotted()"
   ]
  },
  {
   "cell_type": "code",
   "execution_count": 29,
   "id": "f38891f6",
   "metadata": {},
   "outputs": [],
   "source": [
    "a.weight = 111."
   ]
  },
  {
   "cell_type": "code",
   "execution_count": 30,
   "id": "c8dcd832",
   "metadata": {},
   "outputs": [
    {
     "ename": "AttributeError",
     "evalue": "'Slotted' object has no attribute 'weights'",
     "output_type": "error",
     "traceback": [
      "\u001b[0;31m---------------------------------------------------------------------------\u001b[0m",
      "\u001b[0;31mAttributeError\u001b[0m                            Traceback (most recent call last)",
      "\u001b[0;32m/var/folders/6g/sdgwjcm51kn8l9zx06n9ww800000gn/T/ipykernel_47786/1038682661.py\u001b[0m in \u001b[0;36m<module>\u001b[0;34m\u001b[0m\n\u001b[0;32m----> 1\u001b[0;31m \u001b[0ma\u001b[0m\u001b[0;34m.\u001b[0m\u001b[0mweights\u001b[0m \u001b[0;34m=\u001b[0m \u001b[0;36m222.\u001b[0m\u001b[0;34m\u001b[0m\u001b[0;34m\u001b[0m\u001b[0m\n\u001b[0m",
      "\u001b[0;31mAttributeError\u001b[0m: 'Slotted' object has no attribute 'weights'"
     ]
    }
   ],
   "source": [
    "a.weights = 222."
   ]
  },
  {
   "cell_type": "markdown",
   "id": "88e13c3a",
   "metadata": {},
   "source": [
    "attr 예제"
   ]
  },
  {
   "cell_type": "code",
   "execution_count": 31,
   "id": "e7615019",
   "metadata": {},
   "outputs": [],
   "source": [
    "class Ex(object):\n",
    "    attr = 'class attribute'\n",
    "    \n",
    "    def __getattribute__(self, name):\n",
    "        print('__getattribute__({}) is called'.format(name))\n",
    "        super().__getattribute__(name)\n",
    "        \n",
    "    def __getattr__(self, name):\n",
    "        print('__getattr__({}) is called'.format(name))\n",
    "        \n",
    "    def __setattr__(self, name, value):\n",
    "        print('__setattr__({}, {})'.format(name, value))\n",
    "        super().__setattr__(name, value)\n",
    "\n",
    "        \n",
    "e = Ex()"
   ]
  },
  {
   "cell_type": "code",
   "execution_count": 32,
   "id": "8ab6b5af",
   "metadata": {},
   "outputs": [
    {
     "name": "stdout",
     "output_type": "stream",
     "text": [
      "__getattribute__(member) is called\n",
      "__getattr__(member) is called\n"
     ]
    }
   ],
   "source": [
    "e.member"
   ]
  },
  {
   "cell_type": "code",
   "execution_count": 33,
   "id": "3b8a38eb",
   "metadata": {},
   "outputs": [
    {
     "name": "stdout",
     "output_type": "stream",
     "text": [
      "__setattr__(member, 1)\n"
     ]
    }
   ],
   "source": [
    "e.member = 1"
   ]
  },
  {
   "cell_type": "code",
   "execution_count": 34,
   "id": "d2102475",
   "metadata": {},
   "outputs": [
    {
     "name": "stdout",
     "output_type": "stream",
     "text": [
      "__getattribute__(member) is called\n"
     ]
    }
   ],
   "source": [
    "e.member"
   ]
  },
  {
   "cell_type": "markdown",
   "id": "c68613f1",
   "metadata": {},
   "source": [
    "### 컨텍스트 관리\n",
    "Context Management Protocol(with Statement)를 사용하기 위해 구현해야 하는 method입니다.\n",
    "\n",
    "* `__enter__(self)`: with 로 블럭에 진입할때 해야할 일을 정의 합니다.\n",
    "* `__exit__(self, exc_type, exc_value, trackback)`: 블럭에서 나갈때 해야할 일을 정의합니다.\n"
   ]
  },
  {
   "cell_type": "code",
   "execution_count": 35,
   "id": "aca2e0e9",
   "metadata": {},
   "outputs": [],
   "source": [
    "class Cls:\n",
    "    def __enter__(self):\n",
    "        print(\"prologue\")\n",
    "        \n",
    "    def __exit__(self, exc_type, exc_value, trackback):\n",
    "        print(\"epilogue\", exc_type, exc_value, trackback)"
   ]
  },
  {
   "cell_type": "code",
   "execution_count": 36,
   "id": "6ab2d060",
   "metadata": {},
   "outputs": [
    {
     "name": "stdout",
     "output_type": "stream",
     "text": [
      "prologue\n",
      "1\n",
      "2\n",
      "3\n",
      "epilogue None None None\n"
     ]
    }
   ],
   "source": [
    "with Cls():\n",
    "    print(\"1\")\n",
    "    print(\"2\")\n",
    "    print(\"3\")"
   ]
  },
  {
   "cell_type": "markdown",
   "id": "7fc4d5d2",
   "metadata": {},
   "source": [
    "### 연산\n",
    "단항 연산자\n",
    "* `__neg__(self)`: `-object`\n",
    "* `__pos__(self)`: `+object`\n",
    "* `__abs__(self)`: `abs(object)`\n",
    "* `__invert__(self)`: `~object`\n"
   ]
  },
  {
   "cell_type": "code",
   "execution_count": 37,
   "id": "97cbbb40",
   "metadata": {},
   "outputs": [],
   "source": [
    "class O:\n",
    "    def __init__(self, val):\n",
    "        self.val = val\n",
    "        \n",
    "    def __neg__(self):\n",
    "        print('__neg__ called')\n",
    "        return O(2 * -self.val)\n",
    "    \n",
    "    def __pos__(self):\n",
    "        print('__pos__ called')\n",
    "        return O(2 * self.val)\n",
    "    \n",
    "    def __abs__(self):\n",
    "        print('__abs__ called')\n",
    "        return O(self.val * self.val)\n",
    "    \n",
    "    def __invert__(self):\n",
    "        print('__invert__ called')\n",
    "        return not self.val\n",
    "    \n",
    "    \n",
    "a = O(1)"
   ]
  },
  {
   "cell_type": "code",
   "execution_count": 38,
   "id": "fe12a3ce",
   "metadata": {},
   "outputs": [
    {
     "name": "stdout",
     "output_type": "stream",
     "text": [
      "__neg__ called\n"
     ]
    },
    {
     "data": {
      "text/plain": [
       "<__main__.O at 0x7f9e0df4d280>"
      ]
     },
     "execution_count": 38,
     "metadata": {},
     "output_type": "execute_result"
    }
   ],
   "source": [
    "-a"
   ]
  },
  {
   "cell_type": "code",
   "execution_count": 39,
   "id": "d4575635",
   "metadata": {},
   "outputs": [
    {
     "name": "stdout",
     "output_type": "stream",
     "text": [
      "__pos__ called\n"
     ]
    },
    {
     "data": {
      "text/plain": [
       "<__main__.O at 0x7f9e0df4dc70>"
      ]
     },
     "execution_count": 39,
     "metadata": {},
     "output_type": "execute_result"
    }
   ],
   "source": [
    "+a"
   ]
  },
  {
   "cell_type": "code",
   "execution_count": 40,
   "id": "951785ed",
   "metadata": {},
   "outputs": [
    {
     "data": {
      "text/plain": [
       "<__main__.O at 0x7f9e0deb1e20>"
      ]
     },
     "execution_count": 40,
     "metadata": {},
     "output_type": "execute_result"
    }
   ],
   "source": [
    "a"
   ]
  },
  {
   "cell_type": "code",
   "execution_count": 41,
   "id": "afd05cc8",
   "metadata": {},
   "outputs": [
    {
     "name": "stdout",
     "output_type": "stream",
     "text": [
      "__abs__ called\n"
     ]
    },
    {
     "data": {
      "text/plain": [
       "<__main__.O at 0x7f9e0df4dcd0>"
      ]
     },
     "execution_count": 41,
     "metadata": {},
     "output_type": "execute_result"
    }
   ],
   "source": [
    "abs(a)"
   ]
  },
  {
   "cell_type": "code",
   "execution_count": 42,
   "id": "067d4d12",
   "metadata": {},
   "outputs": [
    {
     "name": "stdout",
     "output_type": "stream",
     "text": [
      "__invert__ called\n"
     ]
    },
    {
     "data": {
      "text/plain": [
       "False"
      ]
     },
     "execution_count": 42,
     "metadata": {},
     "output_type": "execute_result"
    }
   ],
   "source": [
    "~a"
   ]
  },
  {
   "cell_type": "markdown",
   "id": "946c2ec0",
   "metadata": {},
   "source": [
    "### 대입 연산자\n",
    "\n",
    "* `__isub__(self, other)`: `-= other`\n",
    "* `__iadd__(self, other)`: `+= other`\n",
    "* `__imul__(self, other)`: `*= other`\n",
    "* `__idiv__(self, other)`: `/= other`\n",
    "* `__ifloordiv__(self, other)`: `//= other`\n",
    "* `__imod__(self, other)`: `%= other`\n",
    "* `__ipow__(self, other)`: `**= other`\n"
   ]
  },
  {
   "cell_type": "code",
   "execution_count": 43,
   "id": "45db3354",
   "metadata": {},
   "outputs": [],
   "source": [
    "class O:\n",
    "    def __init__(self, val):\n",
    "        self.val = val\n",
    "        \n",
    "    def __iadd__(self, other):\n",
    "        print('__iadd__ called')\n",
    "\n",
    "        self.val += other\n",
    "        \n",
    "        return self\n",
    "    \n",
    "    \n",
    "a = O(1)"
   ]
  },
  {
   "cell_type": "code",
   "execution_count": 44,
   "id": "ceaff1c0",
   "metadata": {},
   "outputs": [
    {
     "data": {
      "text/plain": [
       "1"
      ]
     },
     "execution_count": 44,
     "metadata": {},
     "output_type": "execute_result"
    }
   ],
   "source": [
    "a.val"
   ]
  },
  {
   "cell_type": "code",
   "execution_count": 45,
   "id": "b142b80e",
   "metadata": {},
   "outputs": [
    {
     "name": "stdout",
     "output_type": "stream",
     "text": [
      "__iadd__ called\n"
     ]
    }
   ],
   "source": [
    "a += 2"
   ]
  },
  {
   "cell_type": "code",
   "execution_count": 46,
   "id": "24acccd4",
   "metadata": {},
   "outputs": [
    {
     "data": {
      "text/plain": [
       "3"
      ]
     },
     "execution_count": 46,
     "metadata": {},
     "output_type": "execute_result"
    }
   ],
   "source": [
    "a.val"
   ]
  },
  {
   "cell_type": "markdown",
   "id": "212f8f84",
   "metadata": {},
   "source": [
    "대입 연산자를 overriding 할땐 자기자신을 리턴해주는걸 잊지 말아야 합니다. 안그러면 아래와 같은 상황이 벌어질 수 있습니다."
   ]
  },
  {
   "cell_type": "code",
   "execution_count": 47,
   "id": "6b972685",
   "metadata": {},
   "outputs": [
    {
     "name": "stdout",
     "output_type": "stream",
     "text": [
      "__iadd__ called\n",
      "None\n"
     ]
    }
   ],
   "source": [
    "class O:\n",
    "    def __init__(self, val):\n",
    "        self.val = val\n",
    "\n",
    "    def __iadd__(self, other):\n",
    "        print('__iadd__ called')\n",
    "        self.val += other\n",
    "\n",
    "        \n",
    "a = O(1)\n",
    "\n",
    "a += 4\n",
    "print(a)"
   ]
  },
  {
   "cell_type": "markdown",
   "id": "9c1a2279",
   "metadata": {},
   "source": [
    "### 산술연산자\n",
    "\n",
    "* `__add__(self, other)`: `object + other`\n",
    "* `__sub__(self, other)`: `object - other`\n",
    "* `__mul__(self, other)`: `object * other`\n",
    "* `__truediv__(self, other)`: `object / other`\n",
    "* `__floordiv__(self, other)`: `object // other`\n",
    "* `__mod__(self, other)`: `object % other`\n",
    "* `__pow__(self, other)`: `object ** other`"
   ]
  },
  {
   "cell_type": "code",
   "execution_count": 48,
   "id": "6a250593",
   "metadata": {},
   "outputs": [],
   "source": [
    "class O:\n",
    "    def __init__(self, val):\n",
    "        self.val = val\n",
    "\n",
    "    def __add__(self, other):\n",
    "        print('__add__ called')\n",
    "        \n",
    "        if isinstance(other, type(self.val)):\n",
    "            return self.val + other\n",
    "        \n",
    "        return NotImplemented\n",
    "    \n",
    "    def __pos__(self):\n",
    "        print('__pos__ called')\n",
    "        return self.val\n",
    "\n",
    "\n",
    "a = O(1)"
   ]
  },
  {
   "cell_type": "code",
   "execution_count": 49,
   "id": "ebed7297",
   "metadata": {},
   "outputs": [
    {
     "name": "stdout",
     "output_type": "stream",
     "text": [
      "__add__ called\n"
     ]
    },
    {
     "data": {
      "text/plain": [
       "2"
      ]
     },
     "execution_count": 49,
     "metadata": {},
     "output_type": "execute_result"
    }
   ],
   "source": [
    "a + 1"
   ]
  },
  {
   "cell_type": "code",
   "execution_count": 50,
   "id": "237c0220",
   "metadata": {},
   "outputs": [
    {
     "name": "stdout",
     "output_type": "stream",
     "text": [
      "__add__ called\n"
     ]
    },
    {
     "ename": "TypeError",
     "evalue": "unsupported operand type(s) for +: 'O' and 'float'",
     "output_type": "error",
     "traceback": [
      "\u001b[0;31m---------------------------------------------------------------------------\u001b[0m",
      "\u001b[0;31mTypeError\u001b[0m                                 Traceback (most recent call last)",
      "\u001b[0;32m/var/folders/6g/sdgwjcm51kn8l9zx06n9ww800000gn/T/ipykernel_47786/2597245295.py\u001b[0m in \u001b[0;36m<module>\u001b[0;34m\u001b[0m\n\u001b[0;32m----> 1\u001b[0;31m \u001b[0ma\u001b[0m \u001b[0;34m+\u001b[0m \u001b[0;36m1.\u001b[0m\u001b[0;34m\u001b[0m\u001b[0;34m\u001b[0m\u001b[0m\n\u001b[0m",
      "\u001b[0;31mTypeError\u001b[0m: unsupported operand type(s) for +: 'O' and 'float'"
     ]
    }
   ],
   "source": [
    "a + 1."
   ]
  },
  {
   "cell_type": "code",
   "execution_count": 51,
   "id": "83fb120b",
   "metadata": {},
   "outputs": [
    {
     "ename": "TypeError",
     "evalue": "unsupported operand type(s) for +: 'int' and 'O'",
     "output_type": "error",
     "traceback": [
      "\u001b[0;31m---------------------------------------------------------------------------\u001b[0m",
      "\u001b[0;31mTypeError\u001b[0m                                 Traceback (most recent call last)",
      "\u001b[0;32m/var/folders/6g/sdgwjcm51kn8l9zx06n9ww800000gn/T/ipykernel_47786/1659426488.py\u001b[0m in \u001b[0;36m<module>\u001b[0;34m\u001b[0m\n\u001b[0;32m----> 1\u001b[0;31m \u001b[0;36m1\u001b[0m \u001b[0;34m+\u001b[0m \u001b[0ma\u001b[0m\u001b[0;34m\u001b[0m\u001b[0;34m\u001b[0m\u001b[0m\n\u001b[0m",
      "\u001b[0;31mTypeError\u001b[0m: unsupported operand type(s) for +: 'int' and 'O'"
     ]
    }
   ],
   "source": [
    "1 + a"
   ]
  },
  {
   "cell_type": "code",
   "execution_count": 52,
   "id": "2181821c",
   "metadata": {},
   "outputs": [
    {
     "name": "stdout",
     "output_type": "stream",
     "text": [
      "__pos__ called\n"
     ]
    },
    {
     "data": {
      "text/plain": [
       "2"
      ]
     },
     "execution_count": 52,
     "metadata": {},
     "output_type": "execute_result"
    }
   ],
   "source": [
    "+a + 1"
   ]
  },
  {
   "cell_type": "code",
   "execution_count": 53,
   "id": "81dffc22",
   "metadata": {},
   "outputs": [
    {
     "name": "stdout",
     "output_type": "stream",
     "text": [
      "__pos__ called\n"
     ]
    },
    {
     "data": {
      "text/plain": [
       "2"
      ]
     },
     "execution_count": 53,
     "metadata": {},
     "output_type": "execute_result"
    }
   ],
   "source": [
    "1 + +a"
   ]
  },
  {
   "cell_type": "markdown",
   "id": "e04d41ba",
   "metadata": {},
   "source": [
    "### 비교 연산자\n",
    "* `__lt__(self, other)`: `object < other`\n",
    "* `__le__(self, other)`: `object <= other`\n",
    "* `__gt__(self, other)`: `object > other`\n",
    "* `__ge__(self, other)`: `object >= other`\n",
    "* `__eq__(self, other)`: `object == other`\n",
    "* `__ne__(self, other)`: `object != other`\n"
   ]
  },
  {
   "cell_type": "markdown",
   "id": "21780b33",
   "metadata": {},
   "source": [
    "ex1)"
   ]
  },
  {
   "cell_type": "code",
   "execution_count": 54,
   "id": "4a72677b",
   "metadata": {},
   "outputs": [],
   "source": [
    "class O:\n",
    "    def __lt__(self, other):\n",
    "        print('lt called, other:', other)\n",
    "        return True\n",
    "\n",
    "    def __le__(self, other):\n",
    "        print('le called, other:', other)\n",
    "        return True\n",
    "    \n",
    "    def __gt__(self, other):\n",
    "        print('gt called, other:', other)\n",
    "        return True\n",
    "    \n",
    "    def __ge__(self, other):\n",
    "        print('ge called, other:', other)\n",
    "        return True\n",
    "    \n",
    "    def __eq__(self, other):\n",
    "        print('eq called, other:', other)\n",
    "        return True\n",
    "    \n",
    "    def __ne__(self, other):\n",
    "        print('ne called, other:', other)\n",
    "        return True\n",
    "\n",
    "\n",
    "a = O()"
   ]
  },
  {
   "cell_type": "code",
   "execution_count": 55,
   "id": "854ade2a",
   "metadata": {},
   "outputs": [
    {
     "name": "stdout",
     "output_type": "stream",
     "text": [
      "lt called, other: 1\n"
     ]
    },
    {
     "data": {
      "text/plain": [
       "True"
      ]
     },
     "execution_count": 55,
     "metadata": {},
     "output_type": "execute_result"
    }
   ],
   "source": [
    "a < 1"
   ]
  },
  {
   "cell_type": "code",
   "execution_count": 56,
   "id": "18602a55",
   "metadata": {},
   "outputs": [
    {
     "name": "stdout",
     "output_type": "stream",
     "text": [
      "le called, other: 1\n"
     ]
    },
    {
     "data": {
      "text/plain": [
       "True"
      ]
     },
     "execution_count": 56,
     "metadata": {},
     "output_type": "execute_result"
    }
   ],
   "source": [
    "a <= 1"
   ]
  },
  {
   "cell_type": "code",
   "execution_count": 57,
   "id": "4822e578",
   "metadata": {},
   "outputs": [
    {
     "name": "stdout",
     "output_type": "stream",
     "text": [
      "gt called, other: 1\n"
     ]
    },
    {
     "data": {
      "text/plain": [
       "True"
      ]
     },
     "execution_count": 57,
     "metadata": {},
     "output_type": "execute_result"
    }
   ],
   "source": [
    "a > 1"
   ]
  },
  {
   "cell_type": "code",
   "execution_count": 58,
   "id": "8276f39c",
   "metadata": {},
   "outputs": [
    {
     "name": "stdout",
     "output_type": "stream",
     "text": [
      "ge called, other: 1\n"
     ]
    },
    {
     "data": {
      "text/plain": [
       "True"
      ]
     },
     "execution_count": 58,
     "metadata": {},
     "output_type": "execute_result"
    }
   ],
   "source": [
    "a >= 1"
   ]
  },
  {
   "cell_type": "code",
   "execution_count": 59,
   "id": "4ff7e815",
   "metadata": {},
   "outputs": [
    {
     "name": "stdout",
     "output_type": "stream",
     "text": [
      "eq called, other: 1\n"
     ]
    },
    {
     "data": {
      "text/plain": [
       "True"
      ]
     },
     "execution_count": 59,
     "metadata": {},
     "output_type": "execute_result"
    }
   ],
   "source": [
    "a == 1"
   ]
  },
  {
   "cell_type": "code",
   "execution_count": 60,
   "id": "67c46c02",
   "metadata": {},
   "outputs": [
    {
     "name": "stdout",
     "output_type": "stream",
     "text": [
      "ne called, other: 1\n"
     ]
    },
    {
     "data": {
      "text/plain": [
       "True"
      ]
     },
     "execution_count": 60,
     "metadata": {},
     "output_type": "execute_result"
    }
   ],
   "source": [
    "a != 1"
   ]
  },
  {
   "cell_type": "markdown",
   "id": "e097ad09",
   "metadata": {},
   "source": [
    "ex2)"
   ]
  },
  {
   "cell_type": "code",
   "execution_count": 61,
   "id": "1b7e1d2c",
   "metadata": {},
   "outputs": [],
   "source": [
    "class O:\n",
    "    def __init__(self, val):\n",
    "        self.val = val\n",
    "    def __eq__(self, other):\n",
    "        print('__eq__({}, {}) is called'.format(type(self), type(other)))\n",
    "        \n",
    "        if isinstance(other, type(self)):\n",
    "            return self.val == other.val\n",
    "        elif isinstance(other, type(self.val)):\n",
    "            return self.val == other\n",
    "        else:\n",
    "            return NotImplemented"
   ]
  },
  {
   "cell_type": "code",
   "execution_count": 62,
   "id": "ea7dc642",
   "metadata": {},
   "outputs": [],
   "source": [
    "a = O(5)"
   ]
  },
  {
   "cell_type": "code",
   "execution_count": 63,
   "id": "d7b63015",
   "metadata": {},
   "outputs": [
    {
     "name": "stdout",
     "output_type": "stream",
     "text": [
      "__eq__(<class '__main__.O'>, <class 'int'>) is called\n"
     ]
    },
    {
     "data": {
      "text/plain": [
       "True"
      ]
     },
     "execution_count": 63,
     "metadata": {},
     "output_type": "execute_result"
    }
   ],
   "source": [
    "a == 5"
   ]
  },
  {
   "cell_type": "code",
   "execution_count": 64,
   "id": "a641599c",
   "metadata": {},
   "outputs": [
    {
     "name": "stdout",
     "output_type": "stream",
     "text": [
      "__eq__(<class '__main__.O'>, <class 'int'>) is called\n"
     ]
    },
    {
     "data": {
      "text/plain": [
       "False"
      ]
     },
     "execution_count": 64,
     "metadata": {},
     "output_type": "execute_result"
    }
   ],
   "source": [
    "a == 4"
   ]
  },
  {
   "cell_type": "code",
   "execution_count": 65,
   "id": "c8e52325",
   "metadata": {},
   "outputs": [
    {
     "name": "stdout",
     "output_type": "stream",
     "text": [
      "__eq__(<class '__main__.O'>, <class 'float'>) is called\n"
     ]
    },
    {
     "data": {
      "text/plain": [
       "False"
      ]
     },
     "execution_count": 65,
     "metadata": {},
     "output_type": "execute_result"
    }
   ],
   "source": [
    "a == 5."
   ]
  },
  {
   "cell_type": "code",
   "execution_count": 66,
   "id": "963de9b1",
   "metadata": {},
   "outputs": [
    {
     "name": "stdout",
     "output_type": "stream",
     "text": [
      "__eq__(<class '__main__.O'>, <class '__main__.O'>) is called\n"
     ]
    },
    {
     "data": {
      "text/plain": [
       "False"
      ]
     },
     "execution_count": 66,
     "metadata": {},
     "output_type": "execute_result"
    }
   ],
   "source": [
    "a == O(4)"
   ]
  },
  {
   "cell_type": "code",
   "execution_count": 67,
   "id": "05401967",
   "metadata": {},
   "outputs": [
    {
     "name": "stdout",
     "output_type": "stream",
     "text": [
      "__eq__(<class '__main__.O'>, <class '__main__.O'>) is called\n"
     ]
    },
    {
     "data": {
      "text/plain": [
       "True"
      ]
     },
     "execution_count": 67,
     "metadata": {},
     "output_type": "execute_result"
    }
   ],
   "source": [
    "a == O(5)"
   ]
  },
  {
   "cell_type": "markdown",
   "id": "47999e53",
   "metadata": {},
   "source": [
    "### 타입 변환\n",
    "* `__int__(self)`: `int()`가 호출되었을때 사용됩니다.\n",
    "* `__float__(self)`: `float()`이 호출되었을때 사용됩니다.\n",
    "* `__complex__(self)`: `complex()`가 호출되었을때 사용됩니다.\n",
    "* `__bool__(self)`: `bool()`이 호출되었을때 사용됩니다. 정의되지 않은 경우 __len__이 대신 사용됩니다. 리턴 값은 True 혹은 False여야 합니다.\n",
    "* `__hash__(self)`: `hash()`가 호출되었을때 사용됩니다. 리턴 값은 int 형식이어야 합니다."
   ]
  },
  {
   "cell_type": "code",
   "execution_count": 68,
   "id": "0a6c3ee5",
   "metadata": {},
   "outputs": [],
   "source": [
    "class Cls:\n",
    "    def __init__(self):\n",
    "        self.b = True\n",
    "        \n",
    "    def set_bool(self, b):\n",
    "        self.b = b\n",
    "        \n",
    "    def __bool__(self):\n",
    "        return self.b\n",
    "\n",
    "    \n",
    "c = Cls()"
   ]
  },
  {
   "cell_type": "code",
   "execution_count": 69,
   "id": "11cb58a6",
   "metadata": {},
   "outputs": [
    {
     "name": "stdout",
     "output_type": "stream",
     "text": [
      "True\n"
     ]
    }
   ],
   "source": [
    "if c: print(True)\n",
    "else: print(False)"
   ]
  },
  {
   "cell_type": "markdown",
   "id": "b2ab1c46",
   "metadata": {},
   "source": [
    "## Inheritence\n",
    "이미 잘 정의되어 있는 클래스를 가져다 기능을 확장해서 새로운 클래스를 만드려는 경우 상속을 활용할 수 있으며, 여러개의 클래스를 동시에 상속받는 다중 상속도 지원합니다.\n"
   ]
  },
  {
   "cell_type": "code",
   "execution_count": 70,
   "id": "2e811d38",
   "metadata": {},
   "outputs": [
    {
     "name": "stdout",
     "output_type": "stream",
     "text": [
      "Child\n"
     ]
    }
   ],
   "source": [
    "class Parent:\n",
    "    name = \"Parent\"\n",
    "    def whoami(self):\n",
    "        print(self.name)\n",
    "\n",
    "\n",
    "class Child(Parent):\n",
    "    def __init__(self):\n",
    "        self.name = \"Child\"\n",
    "\n",
    "        \n",
    "c = Child()\n",
    "c.whoami()"
   ]
  },
  {
   "cell_type": "markdown",
   "id": "12233783",
   "metadata": {},
   "source": [
    "### super() method\n",
    "Child class에서 Parent class의 method에 추가로 어떤 동작을 하게 만들고 싶은 경우 `super()`를 통해 Parent class를 얻어올 수 있습니다.\n",
    "\n",
    "예를 들어 아래와 같이 child class에서 parent class의 initializer를 override하게 되면, child class의 인스턴스를 생성할때 parent class의 initializer는 호출되지 않습니다. "
   ]
  },
  {
   "cell_type": "code",
   "execution_count": 71,
   "id": "576cb65e",
   "metadata": {},
   "outputs": [
    {
     "name": "stdout",
     "output_type": "stream",
     "text": [
      "Child is initialized\n"
     ]
    }
   ],
   "source": [
    "class Parent:\n",
    "    def __init__(self):\n",
    "        print(\"Parent is initialized\")\n",
    "\n",
    "        \n",
    "class Child(Parent):\n",
    "    def __init__(self):\n",
    "        print(\"Child is initialized\")\n",
    "\n",
    "\n",
    "c = Child()"
   ]
  },
  {
   "cell_type": "markdown",
   "id": "d07cc4b5",
   "metadata": {},
   "source": [
    "이를 위해서 아래와 같이 부모 클래스의 initializer를 직접 호출해주는 방법도 있기는 하지만"
   ]
  },
  {
   "cell_type": "code",
   "execution_count": 72,
   "id": "4ee19fa6",
   "metadata": {},
   "outputs": [
    {
     "name": "stdout",
     "output_type": "stream",
     "text": [
      "Dog is initializing\n",
      "Animal is initializing\n"
     ]
    }
   ],
   "source": [
    "class Animal:\n",
    "    def __init__(self):\n",
    "        print(\"Animal is initializing\")\n",
    "\n",
    "\n",
    "class Dog(Animal):\n",
    "    def __init__(self):\n",
    "        print(\"Dog is initializing\")\n",
    "        Animal.__init__(self)\n",
    "\n",
    "        \n",
    "d = Dog()"
   ]
  },
  {
   "cell_type": "markdown",
   "id": "042e91e3",
   "metadata": {},
   "source": [
    "아래와 같이 같은 클래스를 부모로 가지는 클래스들을 다중 상속 받은 경우 뭔가 불필요한 초기화가 호출될 수 있습니다."
   ]
  },
  {
   "cell_type": "code",
   "execution_count": 73,
   "id": "c2d702ce",
   "metadata": {},
   "outputs": [
    {
     "name": "stdout",
     "output_type": "stream",
     "text": [
      "Pet is initializing\n",
      "Dog is initializing\n",
      "Animal is initializing\n",
      "Cat is initializing\n",
      "Animal is initializing\n"
     ]
    }
   ],
   "source": [
    "class Animal:\n",
    "    def __init__(self):\n",
    "        print(\"Animal is initializing\")\n",
    "\n",
    "\n",
    "class Dog(Animal):\n",
    "    def __init__(self):\n",
    "        print(\"Dog is initializing\")\n",
    "        Animal.__init__(self)\n",
    "\n",
    "\n",
    "class Cat(Animal):\n",
    "    def __init__(self):\n",
    "        print(\"Cat is initializing\")\n",
    "        Animal.__init__(self)\n",
    "\n",
    "\n",
    "class Pet(Dog, Cat):\n",
    "    def __init__(self):\n",
    "        print(\"Pet is initializing\")\n",
    "        Dog.__init__(self)\n",
    "        Cat.__init__(self)\n",
    "\n",
    "\n",
    "p = Pet()"
   ]
  },
  {
   "cell_type": "markdown",
   "id": "9d84534d",
   "metadata": {},
   "source": [
    "이런 문제를 해결할 수 있도록 python에서는 `super()`라는 magic method를 제공합니다."
   ]
  },
  {
   "cell_type": "code",
   "execution_count": 74,
   "id": "63c6779f",
   "metadata": {},
   "outputs": [
    {
     "name": "stdout",
     "output_type": "stream",
     "text": [
      "Pet is initializing\n",
      "Dog is initializing\n",
      "Cat is initializing\n",
      "Animal is initialing\n"
     ]
    }
   ],
   "source": [
    "class Animal:\n",
    "    def __init__(self):\n",
    "        print(\"Animal is initialing\")\n",
    "        super().__init__()\n",
    "\n",
    "\n",
    "class Dog(Animal):\n",
    "    def __init__(self):\n",
    "        print(\"Dog is initializing\")\n",
    "        super().__init__()\n",
    "\n",
    "\n",
    "class Cat(Animal):\n",
    "    def __init__(self):\n",
    "        print(\"Cat is initializing\")\n",
    "        super().__init__()\n",
    "\n",
    "\n",
    "class Pet(Dog, Cat):\n",
    "    def __init__(self):\n",
    "        print(\"Pet is initializing\")\n",
    "        super().__init__()\n",
    "\n",
    "\n",
    "p = Pet()"
   ]
  },
  {
   "cell_type": "markdown",
   "id": "79f5cbe4",
   "metadata": {},
   "source": [
    "결과를 보면 다중 상속 등이 사용되었고, 상속에 사용된 클래스들에 공통의 부모 클래스가 존재한다고 하더라도 해당 클래스에 대한 `__init__`은 한번만 호출되는 것을 확인할 수 있습니다.\n",
    "\n",
    "이 때 `__init__`이 호출되는 순서는 mro()를 통해 정해집니다."
   ]
  },
  {
   "cell_type": "markdown",
   "id": "654b7a02",
   "metadata": {},
   "source": [
    "### mro() method\n",
    "method resolution order의 약어로 `__mro__`라는 attribute 혹은 `mro()` method를 통해 순서를 확인하는 것도 가능합니다."
   ]
  },
  {
   "cell_type": "code",
   "execution_count": 75,
   "id": "af66159d",
   "metadata": {},
   "outputs": [
    {
     "data": {
      "text/plain": [
       "[__main__.Pet, __main__.Dog, __main__.Cat, __main__.Animal, object]"
      ]
     },
     "execution_count": 75,
     "metadata": {},
     "output_type": "execute_result"
    }
   ],
   "source": [
    "Pet.mro()"
   ]
  },
  {
   "cell_type": "code",
   "execution_count": 76,
   "id": "858cfeb7",
   "metadata": {},
   "outputs": [
    {
     "data": {
      "text/plain": [
       "(__main__.Pet, __main__.Dog, __main__.Cat, __main__.Animal, object)"
      ]
     },
     "execution_count": 76,
     "metadata": {},
     "output_type": "execute_result"
    }
   ],
   "source": [
    "Pet.__mro__"
   ]
  },
  {
   "cell_type": "markdown",
   "id": "39689c37",
   "metadata": {},
   "source": [
    "### isinstance() function\n",
    "어떤 instance가 어떤 class를 상속받아 만든(혹은 어떤 class 자체로 만든) instance인지를 체크하기 위한 용도로 `isinstance()` 내장 함수를 사용할 수 있습니다."
   ]
  },
  {
   "cell_type": "code",
   "execution_count": 77,
   "id": "cf58970d",
   "metadata": {},
   "outputs": [],
   "source": [
    "class A: pass\n",
    "class B(A): pass\n",
    "class C(B): pass\n",
    "\n",
    "c = C()"
   ]
  },
  {
   "cell_type": "code",
   "execution_count": 78,
   "id": "0988496e",
   "metadata": {},
   "outputs": [
    {
     "data": {
      "text/plain": [
       "True"
      ]
     },
     "execution_count": 78,
     "metadata": {},
     "output_type": "execute_result"
    }
   ],
   "source": [
    "isinstance(c, C)"
   ]
  },
  {
   "cell_type": "code",
   "execution_count": 79,
   "id": "43d15e26",
   "metadata": {},
   "outputs": [
    {
     "data": {
      "text/plain": [
       "True"
      ]
     },
     "execution_count": 79,
     "metadata": {},
     "output_type": "execute_result"
    }
   ],
   "source": [
    "isinstance(c, B)"
   ]
  },
  {
   "cell_type": "code",
   "execution_count": 80,
   "id": "57250bdf",
   "metadata": {},
   "outputs": [
    {
     "data": {
      "text/plain": [
       "True"
      ]
     },
     "execution_count": 80,
     "metadata": {},
     "output_type": "execute_result"
    }
   ],
   "source": [
    "isinstance(c, A)"
   ]
  },
  {
   "cell_type": "markdown",
   "id": "c86d6691",
   "metadata": {},
   "source": [
    "### issubclass() function\n",
    "어떤 클래스가 무슨 클래스를 상속한게 맞는지 체크하기 위한 용도로 사용할 수 있는 내장 함수입니다."
   ]
  },
  {
   "cell_type": "code",
   "execution_count": 81,
   "id": "e6f05b3c",
   "metadata": {},
   "outputs": [
    {
     "data": {
      "text/plain": [
       "True"
      ]
     },
     "execution_count": 81,
     "metadata": {},
     "output_type": "execute_result"
    }
   ],
   "source": [
    "issubclass(C, A)"
   ]
  },
  {
   "cell_type": "code",
   "execution_count": 82,
   "id": "0d3bf70c",
   "metadata": {},
   "outputs": [
    {
     "data": {
      "text/plain": [
       "True"
      ]
     },
     "execution_count": 82,
     "metadata": {},
     "output_type": "execute_result"
    }
   ],
   "source": [
    "issubclass(B, A)"
   ]
  },
  {
   "cell_type": "code",
   "execution_count": 83,
   "id": "7b52b6a1",
   "metadata": {},
   "outputs": [
    {
     "data": {
      "text/plain": [
       "True"
      ]
     },
     "execution_count": 83,
     "metadata": {},
     "output_type": "execute_result"
    }
   ],
   "source": [
    "issubclass(A, A)"
   ]
  },
  {
   "cell_type": "code",
   "execution_count": 84,
   "id": "2a577f84",
   "metadata": {},
   "outputs": [
    {
     "data": {
      "text/plain": [
       "True"
      ]
     },
     "execution_count": 84,
     "metadata": {},
     "output_type": "execute_result"
    }
   ],
   "source": [
    "issubclass(type(c), A)"
   ]
  },
  {
   "cell_type": "code",
   "execution_count": 85,
   "id": "08440ee1",
   "metadata": {},
   "outputs": [
    {
     "data": {
      "text/plain": [
       "False"
      ]
     },
     "execution_count": 85,
     "metadata": {},
     "output_type": "execute_result"
    }
   ],
   "source": [
    "issubclass(A, C)"
   ]
  }
 ],
 "metadata": {
  "kernelspec": {
   "display_name": "Python 3 (ipykernel)",
   "language": "python",
   "name": "python3"
  },
  "language_info": {
   "codemirror_mode": {
    "name": "ipython",
    "version": 3
   },
   "file_extension": ".py",
   "mimetype": "text/x-python",
   "name": "python",
   "nbconvert_exporter": "python",
   "pygments_lexer": "ipython3",
   "version": "3.8.12"
  }
 },
 "nbformat": 4,
 "nbformat_minor": 5
}
