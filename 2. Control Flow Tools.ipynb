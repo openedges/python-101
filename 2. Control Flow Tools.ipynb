{
 "cells": [
  {
   "cell_type": "markdown",
   "id": "c328388b",
   "metadata": {},
   "source": [
    "Python의 반복/제어를 위한 툴들은 아래와 같습니다.\n",
    "\n",
    "# if Statements\n",
    "`if` 문은 제어를 위해 사용되며, 아래와 같은 문법을 가집니다. `elif`, `else` 등은 optional statement입니다."
   ]
  },
  {
   "cell_type": "code",
   "execution_count": 1,
   "id": "52b21f82",
   "metadata": {},
   "outputs": [
    {
     "name": "stdout",
     "output_type": "stream",
     "text": [
      "x < 2\n"
     ]
    }
   ],
   "source": [
    "x = 1\n",
    "\n",
    "if x < 0:\n",
    "    print('x < 0')\n",
    "elif x < 1:\n",
    "    print('x < 1')\n",
    "elif x < 2:\n",
    "    print('x < 2')\n",
    "else:\n",
    "    print('!!!')\n",
    "    print('!!')\n",
    "    print('!')"
   ]
  },
  {
   "cell_type": "markdown",
   "id": "b647359b",
   "metadata": {},
   "source": [
    "당연히 중첩된 `if` 문도 지원합니다."
   ]
  },
  {
   "cell_type": "code",
   "execution_count": 2,
   "id": "ca8a67ac",
   "metadata": {},
   "outputs": [
    {
     "name": "stdout",
     "output_type": "stream",
     "text": [
      "3333\n",
      "...\n"
     ]
    }
   ],
   "source": [
    "x = 3\n",
    "\n",
    "if x > 0:\n",
    "    if x == 3:\n",
    "        print(3333)\n",
    "    else:\n",
    "        print(4)\n",
    "        \n",
    "    print('...')"
   ]
  },
  {
   "cell_type": "markdown",
   "id": "fc676341",
   "metadata": {},
   "source": [
    "block의 시작과 끝은 indent를 이용하여 구별되며, 일반적으로 space 4개가 python 공식 style guide입니다. 이 때 indent rule을 일관되어야 합니다. (space 4개를 쓰다가 어느 순간부터 space 3개로 indent를 넣으면 문법 에러가 발생합니다.) \n",
    "\n",
    "여러가지 condition들의 조합을 사용하려면 and, or keyword를 이용해서 엮어주면 됩니다. 연산의 순서를 명확히 하기 위해 ()를 사용해서 묶어주는 것도 가능합니다."
   ]
  },
  {
   "cell_type": "code",
   "execution_count": 3,
   "id": "f2654051",
   "metadata": {},
   "outputs": [
    {
     "name": "stdout",
     "output_type": "stream",
     "text": [
      "True\n"
     ]
    }
   ],
   "source": [
    "x = 4\n",
    "\n",
    "if x > 1 and (x < 5):\n",
    "    print(True)"
   ]
  },
  {
   "cell_type": "markdown",
   "id": "ebca50f5",
   "metadata": {},
   "source": [
    "C에서 쓰던 `&&`, `||` 같은 오퍼레이터는 사용할 수 없으며 대신 `AND`, `OR` 을 사용해야합니다."
   ]
  },
  {
   "cell_type": "code",
   "execution_count": 4,
   "id": "52afefa9",
   "metadata": {},
   "outputs": [
    {
     "ename": "SyntaxError",
     "evalue": "invalid syntax (4114733107.py, line 3)",
     "output_type": "error",
     "traceback": [
      "\u001b[0;36m  File \u001b[0;32m\"/var/folders/6g/sdgwjcm51kn8l9zx06n9ww800000gn/T/ipykernel_25851/4114733107.py\"\u001b[0;36m, line \u001b[0;32m3\u001b[0m\n\u001b[0;31m    if x > 1 && x < 5:\u001b[0m\n\u001b[0m              ^\u001b[0m\n\u001b[0;31mSyntaxError\u001b[0m\u001b[0;31m:\u001b[0m invalid syntax\n"
     ]
    }
   ],
   "source": [
    "x = 4\n",
    "\n",
    "if x > 1 && x < 5:\n",
    "    print('...')"
   ]
  },
  {
   "cell_type": "markdown",
   "id": "61b9dca7",
   "metadata": {},
   "source": [
    "# while Statements\n",
    "while statement는 조건에 맞는 동안 계속 반복을 시키기 위한 용도로 사용됩니다. "
   ]
  },
  {
   "cell_type": "code",
   "execution_count": 5,
   "id": "bd363f30",
   "metadata": {},
   "outputs": [
    {
     "name": "stdout",
     "output_type": "stream",
     "text": [
      "3\n",
      "2\n",
      "1\n"
     ]
    }
   ],
   "source": [
    "x = 3\n",
    "\n",
    "while x > 0:\n",
    "    print(x)\n",
    "    x -= 1"
   ]
  },
  {
   "cell_type": "markdown",
   "id": "d1cd0322",
   "metadata": {},
   "source": [
    "# for Statements\n",
    "C에서 for statement는 initial condition, halting condition, iteration step 등의 동작을 정의하도록 되어 있는데, python의 for statement는 string이나 list 등 sequence type을 이용해서 동작을 정의합니다. \n"
   ]
  },
  {
   "cell_type": "code",
   "execution_count": 6,
   "id": "1479d6e6",
   "metadata": {},
   "outputs": [
    {
     "name": "stdout",
     "output_type": "stream",
     "text": [
      "abc 3\n",
      "de 2\n",
      "f 1\n"
     ]
    }
   ],
   "source": [
    "words = ['abc', 'de', 'f']\n",
    "\n",
    "for word in words:\n",
    "    print(word, len(word))"
   ]
  },
  {
   "cell_type": "markdown",
   "id": "bed0be01",
   "metadata": {},
   "source": [
    "## range() function\n",
    "`range()` function을 이용하면 C-style의 룹을 간단히 구성할 수 있습니다."
   ]
  },
  {
   "cell_type": "code",
   "execution_count": 7,
   "id": "6df00e0d",
   "metadata": {},
   "outputs": [
    {
     "name": "stdout",
     "output_type": "stream",
     "text": [
      "0\n",
      "1\n",
      "2\n"
     ]
    }
   ],
   "source": [
    "for i in range(3):\n",
    "    print(i)"
   ]
  },
  {
   "cell_type": "markdown",
   "id": "38ed39ff",
   "metadata": {},
   "source": [
    "`range()` function은 넘겨받은 인자 수에 따라 다른 의미를 가집니다.\n",
    "\n",
    "* `range(start, stop, step)`\n",
    "* `range(start, stop)` ==> `range(start, stop, step=1)`\n",
    "* `range(stop)` ==> `range(start=0, stop, step=1)`\n",
    "\n",
    "예를 들어 아래와 같이 인자가 두개인 경우 순서대로 `start`, `stop` 을 의미하며, C 코드 `for (i = start, i < stop ; i++)`와 같은 의미를 가집니다. "
   ]
  },
  {
   "cell_type": "code",
   "execution_count": 8,
   "id": "36a5f926",
   "metadata": {},
   "outputs": [
    {
     "name": "stdout",
     "output_type": "stream",
     "text": [
      "2\n",
      "3\n",
      "4\n"
     ]
    }
   ],
   "source": [
    "for i in range(2, 5):\n",
    "    print(i)"
   ]
  },
  {
   "cell_type": "markdown",
   "id": "7b238c67",
   "metadata": {},
   "source": [
    "예를 들어 아래와 같이 인자가 세개인 경우 순서대로 start, stop, step 을 의미하며, C 코드 `for (i = start, i < stop ; i+=step)`과 비슷한 의미를 가집니다.\n",
    "\n",
    "아래와 같이 값이 작아지는 형태로 range를 정의할 수도 있습니다."
   ]
  },
  {
   "cell_type": "code",
   "execution_count": 9,
   "id": "75f94215",
   "metadata": {},
   "outputs": [
    {
     "name": "stdout",
     "output_type": "stream",
     "text": [
      "3\n",
      "1\n"
     ]
    }
   ],
   "source": [
    "for i in range(3, 0, -2):\n",
    "    print(i)"
   ]
  },
  {
   "cell_type": "markdown",
   "id": "3fdae2f7",
   "metadata": {},
   "source": [
    "## enumerate() function\n",
    "enumerate 와 같은 내장 함수를 이용해서 looping index를 자동으로 생성하면서 loop을 돌릴 수도 있습니다."
   ]
  },
  {
   "cell_type": "code",
   "execution_count": 10,
   "id": "74ff0b55",
   "metadata": {},
   "outputs": [
    {
     "name": "stdout",
     "output_type": "stream",
     "text": [
      "0 a\n",
      "1 b\n",
      "2 c\n"
     ]
    }
   ],
   "source": [
    "alphabet = ['a', 'b', 'c']\n",
    "\n",
    "for i, alpha in enumerate(alphabet):\n",
    "    print(i, alpha)"
   ]
  },
  {
   "cell_type": "markdown",
   "id": "34c93344",
   "metadata": {},
   "source": [
    "## zip() function\n",
    "zip 등의 내장 함수를 이용하면 길이가 같은 리스트들을 묶어서 loop을 돌리는 것도 가능합니다."
   ]
  },
  {
   "cell_type": "code",
   "execution_count": 11,
   "id": "bbf937d4",
   "metadata": {},
   "outputs": [
    {
     "name": "stdout",
     "output_type": "stream",
     "text": [
      "1 a A\n",
      "2 b B\n",
      "3 c C\n"
     ]
    }
   ],
   "source": [
    "list1 = [1, 2, 3]\n",
    "list2 = ['a', 'b', 'c']\n",
    "list3 = ['A', 'B', 'C']\n",
    "\n",
    "for a, b, c in zip(list1, list2, list3):\n",
    "    print(a, b, c)"
   ]
  },
  {
   "cell_type": "code",
   "execution_count": 12,
   "id": "8bb066fc",
   "metadata": {},
   "outputs": [
    {
     "name": "stdout",
     "output_type": "stream",
     "text": [
      "1 a A\n",
      "2 b B\n",
      "3 c C\n"
     ]
    }
   ],
   "source": [
    "list1 = [1, 2, 3, 4]\n",
    "list2 = ['a', 'b', 'c']\n",
    "list3 = ['A', 'B', 'C']\n",
    "\n",
    "for a, b, c in zip(list1, list2, list3):\n",
    "    print(a, b, c)"
   ]
  },
  {
   "cell_type": "markdown",
   "id": "6f489454",
   "metadata": {},
   "source": [
    "## looping with dict type\n",
    "dict 데이터를 가지고 loop을 돌릴때는 items() 혹은 keys(), values() 등을 이용해야 합니다."
   ]
  },
  {
   "cell_type": "code",
   "execution_count": 13,
   "id": "591c75e5",
   "metadata": {},
   "outputs": [
    {
     "name": "stdout",
     "output_type": "stream",
     "text": [
      "k1 111\n",
      "k2 222\n"
     ]
    }
   ],
   "source": [
    "d = { 'k1': 111, 'k2': 222 }\n",
    "\n",
    "for k, v in d.items():\n",
    "    print(k, v)"
   ]
  },
  {
   "cell_type": "code",
   "execution_count": 14,
   "id": "c7906bae",
   "metadata": {},
   "outputs": [
    {
     "name": "stdout",
     "output_type": "stream",
     "text": [
      "k1\n",
      "k2\n"
     ]
    }
   ],
   "source": [
    "d = { 'k1': 111, 'k2': 222 }\n",
    "\n",
    "for k in d.keys():\n",
    "    print(k)"
   ]
  },
  {
   "cell_type": "code",
   "execution_count": 15,
   "id": "7ea3a9f0",
   "metadata": {},
   "outputs": [
    {
     "name": "stdout",
     "output_type": "stream",
     "text": [
      "111\n",
      "222\n"
     ]
    }
   ],
   "source": [
    "d = { 'k1': 111, 'k2': 222 }\n",
    "\n",
    "for k in d.values():\n",
    "    print(k)"
   ]
  },
  {
   "cell_type": "markdown",
   "id": "09394ce2",
   "metadata": {},
   "source": [
    "# break continue Statements, and else Clauses on Loops\n",
    "break statement를 이용하면 loop 중간에서 빠져나갈 수 있습니다. 그리고 loop 뒤에 else statement를 사용하면, break를 통해 loop이 정상적으로 끝난 경우에 대응하는 동작을 추가로 기술할 수 있습니다."
   ]
  },
  {
   "cell_type": "code",
   "execution_count": 16,
   "id": "422fb2fd",
   "metadata": {},
   "outputs": [
    {
     "name": "stdout",
     "output_type": "stream",
     "text": [
      "0 is a prime number\n",
      "1 is a prime number\n",
      "2 is a prime number\n",
      "3 is a prime number\n",
      "4 is not a prime number\n",
      "5 is a prime number\n"
     ]
    }
   ],
   "source": [
    "for n in range(6):\n",
    "    for x in range(2, n):\n",
    "        if n % x == 0:\n",
    "            print(n, 'is not a prime number')\n",
    "            break\n",
    "    else:\n",
    "        print(n, 'is a prime number')"
   ]
  },
  {
   "cell_type": "markdown",
   "id": "04e11957",
   "metadata": {},
   "source": [
    "# pass Statements\n",
    "pass statement는 아무런 동작을 하지 않습니다. 문법상 statement가 필요한 경우에 사용합니다.\n",
    "\n",
    "예를 들어 아래처럼 minimal class를 정의하기 위해서라거나...\n",
    "\n"
   ]
  },
  {
   "cell_type": "code",
   "execution_count": 17,
   "id": "f5bf02e1",
   "metadata": {},
   "outputs": [],
   "source": [
    "class MyEmptyClass:\n",
    "    pass"
   ]
  },
  {
   "cell_type": "markdown",
   "id": "a9c16137",
   "metadata": {},
   "source": [
    "place-holder function, abstract class 등을 정의할 때 사용됩니다. "
   ]
  },
  {
   "cell_type": "code",
   "execution_count": 18,
   "id": "e98e5cee",
   "metadata": {},
   "outputs": [],
   "source": [
    "def placeholder_function(*args):\n",
    "    pass"
   ]
  },
  {
   "cell_type": "code",
   "execution_count": 19,
   "id": "4ebd258a",
   "metadata": {},
   "outputs": [],
   "source": [
    "class AbstractQue:\n",
    "    def push(val):\n",
    "        pass\n",
    " \n",
    "    def pop():\n",
    "        pass"
   ]
  },
  {
   "cell_type": "markdown",
   "id": "298418fe",
   "metadata": {},
   "source": [
    "# raise Statements\n",
    "`raise` statement는 exception을 발생시키는 용도로 사용됩니다."
   ]
  },
  {
   "cell_type": "code",
   "execution_count": 20,
   "id": "110a141e",
   "metadata": {},
   "outputs": [
    {
     "ename": "Exception",
     "evalue": "byebye",
     "output_type": "error",
     "traceback": [
      "\u001b[0;31m---------------------------------------------------------------------------\u001b[0m",
      "\u001b[0;31mException\u001b[0m                                 Traceback (most recent call last)",
      "\u001b[0;32m/var/folders/6g/sdgwjcm51kn8l9zx06n9ww800000gn/T/ipykernel_25851/2621642523.py\u001b[0m in \u001b[0;36m<module>\u001b[0;34m\u001b[0m\n\u001b[0;32m----> 1\u001b[0;31m \u001b[0;32mraise\u001b[0m \u001b[0mException\u001b[0m\u001b[0;34m(\u001b[0m\u001b[0;34m'byebye'\u001b[0m\u001b[0;34m)\u001b[0m\u001b[0;34m\u001b[0m\u001b[0;34m\u001b[0m\u001b[0m\n\u001b[0m",
      "\u001b[0;31mException\u001b[0m: byebye"
     ]
    }
   ],
   "source": [
    "raise Exception('byebye')"
   ]
  },
  {
   "cell_type": "markdown",
   "id": "cb82e423",
   "metadata": {},
   "source": [
    "# try Statements and except Statements, ...\n",
    "`try`, `except` statement는 exception 처리에 사용됩니다.\n",
    "\n",
    "예를 들어 아래와 같이 divide by zero exception을 발생시키는 상황에 대해서..."
   ]
  },
  {
   "cell_type": "code",
   "execution_count": 21,
   "id": "153d65b7",
   "metadata": {},
   "outputs": [
    {
     "ename": "ZeroDivisionError",
     "evalue": "division by zero",
     "output_type": "error",
     "traceback": [
      "\u001b[0;31m---------------------------------------------------------------------------\u001b[0m",
      "\u001b[0;31mZeroDivisionError\u001b[0m                         Traceback (most recent call last)",
      "\u001b[0;32m/var/folders/6g/sdgwjcm51kn8l9zx06n9ww800000gn/T/ipykernel_25851/1455669704.py\u001b[0m in \u001b[0;36m<module>\u001b[0;34m\u001b[0m\n\u001b[0;32m----> 1\u001b[0;31m \u001b[0;36m1\u001b[0m \u001b[0;34m/\u001b[0m \u001b[0;36m0\u001b[0m\u001b[0;34m\u001b[0m\u001b[0;34m\u001b[0m\u001b[0m\n\u001b[0m",
      "\u001b[0;31mZeroDivisionError\u001b[0m: division by zero"
     ]
    }
   ],
   "source": [
    "1 / 0"
   ]
  },
  {
   "cell_type": "markdown",
   "id": "6924a020",
   "metadata": {},
   "source": [
    "`try`, `except`를 사용해서 예외 처리를 해주면 프로그램이 죽는 것을 막을 수 있습니다."
   ]
  },
  {
   "cell_type": "code",
   "execution_count": 22,
   "id": "130c6e69",
   "metadata": {},
   "outputs": [
    {
     "name": "stdout",
     "output_type": "stream",
     "text": [
      "divide by zero\n"
     ]
    }
   ],
   "source": [
    "div = 0\n",
    "\n",
    "try:\n",
    "    1 / div\n",
    "except ZeroDivisionError:\n",
    "    print('divide by zero')"
   ]
  },
  {
   "cell_type": "markdown",
   "id": "9c56ba5c",
   "metadata": {},
   "source": [
    "아래와 같이 `try`, `else`를 사용하면 exception이 발생하지 않은 경우에 대한 동작을 기술 할 수도 있으며, `finally`는 exception 발생 여부와 관계없이 실행됩니다."
   ]
  },
  {
   "cell_type": "code",
   "execution_count": 23,
   "id": "b040125e",
   "metadata": {},
   "outputs": [
    {
     "name": "stdout",
     "output_type": "stream",
     "text": [
      "0 .\n",
      "0 뿅뿅\n",
      "1 뿅?\n",
      "1 뿅뿅\n"
     ]
    }
   ],
   "source": [
    "for div in range(2):\n",
    "    try:\n",
    "        a = 1 / div\n",
    "    except ZeroDivisionError:\n",
    "        print(div, '.')\n",
    "    else:\n",
    "        print(div, '뿅?')\n",
    "    finally:\n",
    "        print(div, '뿅뿅')"
   ]
  },
  {
   "cell_type": "markdown",
   "id": "4cff68a9",
   "metadata": {},
   "source": [
    "발생한 Exception 종류에 따라 다른 처리를 하도록 만들 수도 있습니다."
   ]
  },
  {
   "cell_type": "code",
   "execution_count": 24,
   "id": "8abd538c",
   "metadata": {},
   "outputs": [
    {
     "name": "stdout",
     "output_type": "stream",
     "text": [
      "unknown symbol exception is raised\n"
     ]
    }
   ],
   "source": [
    "try:\n",
    "    aaa = bbb\n",
    "except ZeroDivisionError:\n",
    "    print('divide by zero exception is raised')\n",
    "except NameError:\n",
    "    print('unknown symbol exception is raised')\n",
    "except Exception as e:\n",
    "    print('unknown exception is raised', e)"
   ]
  },
  {
   "cell_type": "markdown",
   "id": "3054b1aa",
   "metadata": {},
   "source": [
    "# with Statements\n",
    "`with` statement는 clean-up code가 실행되는 시점을 명확하게 기술하기 위해 사용됩니다.\n",
    "\n",
    "```\n",
    "with expression [as variable]:\n",
    "    with-block\n",
    "```\n",
    "\n",
    "일반적으로 아래와 같이 file 내용을 읽어오는 경우 등에 사용되며...\n",
    "\n",
    "```\n",
    "with open('somefile', 'r') as f:\n",
    "    data = f.read()\n",
    "```\n",
    "\n",
    "`with` block 이 끝나는 시점에 f object에 대한 clean-up code가 실행되는 것을 의미합니다.\n",
    "\n",
    "아래와 같이 lock을 처리하는데도 with를 활용할 수 있습니다.\n",
    "\n",
    "```\n",
    "with threading.Lock():\n",
    "    # critical section of code\n",
    "    ...\n",
    "```"
   ]
  },
  {
   "cell_type": "code",
   "execution_count": null,
   "id": "2db6572a",
   "metadata": {},
   "outputs": [],
   "source": []
  }
 ],
 "metadata": {
  "kernelspec": {
   "display_name": "Python 3 (ipykernel)",
   "language": "python",
   "name": "python3"
  },
  "language_info": {
   "codemirror_mode": {
    "name": "ipython",
    "version": 3
   },
   "file_extension": ".py",
   "mimetype": "text/x-python",
   "name": "python",
   "nbconvert_exporter": "python",
   "pygments_lexer": "ipython3",
   "version": "3.8.12"
  }
 },
 "nbformat": 4,
 "nbformat_minor": 5
}
