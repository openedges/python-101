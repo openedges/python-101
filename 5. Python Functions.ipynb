{
 "cells": [
  {
   "cell_type": "markdown",
   "id": "0e407c30",
   "metadata": {},
   "source": [
    "# Python Functions\n",
    "Python의 Function은 `__call__()` method를 가지고 있는 callable object로 아래와 같이 정의할 수 있습니다.\n",
    "\n",
    "```\n",
    "def name(positional_parameters, keyword_parameters):\n",
    "    pass\n",
    "```\n",
    "\n",
    "positional parameter는 default 값을 가지지 않는 파라미터이고, keyword parameter는 기본 값을 가지는 파라미터 입니다.\n",
    "\n",
    "아래의 예제에서 `arg0`, `arg1`은 positional parameter이며, 기본 값이 지정된 `arg2`, `arg3`들이 keyword parameter입니다. "
   ]
  },
  {
   "cell_type": "code",
   "execution_count": 1,
   "id": "160e7990",
   "metadata": {},
   "outputs": [],
   "source": [
    "def func(arg0, arg1, arg2='hello', arg3='hi'):\n",
    "    print(arg0, arg1, arg2, arg3)"
   ]
  },
  {
   "cell_type": "code",
   "execution_count": 2,
   "id": "5b82b8d2",
   "metadata": {},
   "outputs": [
    {
     "name": "stdout",
     "output_type": "stream",
     "text": [
      "<class 'function'>\n"
     ]
    }
   ],
   "source": [
    "print(type(func))"
   ]
  },
  {
   "cell_type": "code",
   "execution_count": 3,
   "id": "c59b531b",
   "metadata": {},
   "outputs": [
    {
     "name": "stdout",
     "output_type": "stream",
     "text": [
      "1 2 hello hi\n"
     ]
    }
   ],
   "source": [
    "func(1, 2)"
   ]
  },
  {
   "cell_type": "code",
   "execution_count": 4,
   "id": "aaa5d5fa",
   "metadata": {},
   "outputs": [
    {
     "name": "stdout",
     "output_type": "stream",
     "text": [
      "1 2 hello hi\n"
     ]
    }
   ],
   "source": [
    "func.__call__(1, 2)"
   ]
  },
  {
   "cell_type": "markdown",
   "id": "ab5f05b2",
   "metadata": {},
   "source": [
    "Function을 정의할 때 keyword parameter는 꼭 positional parameter 뒤에 정의되어야 하는게 규칙입니다.\n",
    "\n",
    "아래의 예제에서와 같이 함수를 호출할 때 keyword argument는 생략할 수 있으며, key값 없이 argument들을 연달아 넘겨줘도 순서대로 keyword argument에까지 전달됩니다."
   ]
  },
  {
   "cell_type": "code",
   "execution_count": 5,
   "id": "3d97b0b8",
   "metadata": {},
   "outputs": [],
   "source": [
    "def func(arg0, arg1, arg2='hello', arg3='hi'):\n",
    "    print(arg0, arg1, arg2, arg3)"
   ]
  },
  {
   "cell_type": "code",
   "execution_count": 6,
   "id": "7f72d379",
   "metadata": {},
   "outputs": [
    {
     "name": "stdout",
     "output_type": "stream",
     "text": [
      "1 2 hello hi\n"
     ]
    }
   ],
   "source": [
    "func(1, 2)"
   ]
  },
  {
   "cell_type": "code",
   "execution_count": 7,
   "id": "82b10f9e",
   "metadata": {},
   "outputs": [
    {
     "name": "stdout",
     "output_type": "stream",
     "text": [
      "1 2 hello overrided hi\n"
     ]
    }
   ],
   "source": [
    "func(1, 2, arg3='overrided hi')"
   ]
  },
  {
   "cell_type": "code",
   "execution_count": 8,
   "id": "38b109f0",
   "metadata": {},
   "outputs": [
    {
     "name": "stdout",
     "output_type": "stream",
     "text": [
      "1 2 4 !!\n"
     ]
    }
   ],
   "source": [
    "func(1, 2, 4, arg3='!!')"
   ]
  },
  {
   "cell_type": "markdown",
   "id": "ccdab2e9",
   "metadata": {},
   "source": [
    "주의: keyword parameter를 사용할때 아래와 같이 default parameter 로 지정한 객체 내용을 변경할 경우 다음에 해당 함수를 호출할 때에도 변경된 내역이 그대로 남게 되어 원치 않는 결과를 가져올 수 있습니다."
   ]
  },
  {
   "cell_type": "code",
   "execution_count": 9,
   "id": "c066792d",
   "metadata": {},
   "outputs": [
    {
     "name": "stdout",
     "output_type": "stream",
     "text": [
      "[1, 2, 3]\n",
      "[1, 2]\n",
      "[1]\n"
     ]
    }
   ],
   "source": [
    "def func(values=[1, 2, 3]):\n",
    "    print(values)\n",
    "    values.pop()\n",
    "\n",
    "func()\n",
    "func()\n",
    "func()"
   ]
  },
  {
   "cell_type": "markdown",
   "id": "73277896",
   "metadata": {},
   "source": [
    "## Variadic\n",
    "Python에서 가변 인자를 전달받기 위해선, unpacking operator를 사용하면 됩니다.\n",
    "\n",
    "예를 들어 list argument는 *\\로 unpack하여 positional parameter 형태로 받을 수 있고, keyword argument는 \\*\\*로 unpack 후 keyword parameter 형태로 전달받을 수 있습니다."
   ]
  },
  {
   "cell_type": "code",
   "execution_count": 10,
   "id": "7720d920",
   "metadata": {},
   "outputs": [
    {
     "name": "stdout",
     "output_type": "stream",
     "text": [
      "list argument0 = 1\n",
      "list argument1 = 2\n",
      "list argument2 = 3\n",
      "keyword argument[a] = A\n",
      "keyword argument[b] = B\n"
     ]
    }
   ],
   "source": [
    "def func(*args, **kwargs):\n",
    "    for i, arg in enumerate(args):\n",
    "        print('list argument{} = {}'.format(i, arg))\n",
    "\n",
    "    for k, v in kwargs.items():\n",
    "        print('keyword argument[{}] = {}'.format(k, v))\n",
    "        \n",
    "func(1, 2, 3, a='A', b='B')"
   ]
  },
  {
   "cell_type": "markdown",
   "id": "5192fd3e",
   "metadata": {},
   "source": [
    "Function을 호출할 때도 동일한 unpacking operator를 적용할 수 있습니다."
   ]
  },
  {
   "cell_type": "code",
   "execution_count": 11,
   "id": "8a25df38",
   "metadata": {},
   "outputs": [
    {
     "name": "stdout",
     "output_type": "stream",
     "text": [
      "list argument0 = 11\n",
      "list argument1 = 22\n"
     ]
    }
   ],
   "source": [
    "l = [ 11, 22 ]\n",
    "\n",
    "func(*l)"
   ]
  },
  {
   "cell_type": "code",
   "execution_count": 12,
   "id": "135c3bd0",
   "metadata": {},
   "outputs": [
    {
     "name": "stdout",
     "output_type": "stream",
     "text": [
      "keyword argument[a] = 1\n"
     ]
    }
   ],
   "source": [
    "d = { 'a': 1 }\n",
    "\n",
    "func(**d)"
   ]
  },
  {
   "cell_type": "code",
   "execution_count": 13,
   "id": "201de1bb",
   "metadata": {},
   "outputs": [
    {
     "name": "stdout",
     "output_type": "stream",
     "text": [
      "list argument0 = 11\n",
      "list argument1 = 22\n",
      "keyword argument[a] = 1\n"
     ]
    }
   ],
   "source": [
    "func(*l, **d)"
   ]
  },
  {
   "cell_type": "markdown",
   "id": "da13cf9b",
   "metadata": {},
   "source": [
    "아래와 같이 사용하는 것도 사용합니다."
   ]
  },
  {
   "cell_type": "code",
   "execution_count": 14,
   "id": "ce173256",
   "metadata": {},
   "outputs": [
    {
     "name": "stdout",
     "output_type": "stream",
     "text": [
      "0 (1, 2, 3) B {'k1': 'kk', 'k2': 'kkk'}\n"
     ]
    }
   ],
   "source": [
    "def another_func(arg0, *args, bb=None, **kwargs):\n",
    "    print(arg0, args, bb, kwargs)\n",
    "    \n",
    "another_func(0, 1, 2, 3, k1='kk', k2='kkk', bb='B')"
   ]
  },
  {
   "cell_type": "markdown",
   "id": "6b1abb48",
   "metadata": {},
   "source": [
    "## Lambda\n",
    "Python의 Lambda는 Expression만 가능하며, Statement를 기술할 수 없다는 제약이 있습니다."
   ]
  },
  {
   "cell_type": "code",
   "execution_count": 15,
   "id": "50b36567",
   "metadata": {},
   "outputs": [
    {
     "data": {
      "text/plain": [
       "'hello'"
      ]
     },
     "execution_count": 15,
     "metadata": {},
     "output_type": "execute_result"
    }
   ],
   "source": [
    "lambda_hello = lambda : 'hello'\n",
    "lambda_hello()"
   ]
  },
  {
   "cell_type": "code",
   "execution_count": 16,
   "id": "5c8e98ec",
   "metadata": {},
   "outputs": [
    {
     "data": {
      "text/plain": [
       "3"
      ]
     },
     "execution_count": 16,
     "metadata": {},
     "output_type": "execute_result"
    }
   ],
   "source": [
    "lambda_func = lambda x, y: x + y\n",
    "lambda_func(1, 2)"
   ]
  },
  {
   "cell_type": "code",
   "execution_count": 17,
   "id": "62489b37",
   "metadata": {},
   "outputs": [
    {
     "name": "stdout",
     "output_type": "stream",
     "text": [
      "<class 'function'>\n"
     ]
    }
   ],
   "source": [
    "print(type(lambda_hello))"
   ]
  },
  {
   "cell_type": "markdown",
   "id": "87f9b1d0",
   "metadata": {},
   "source": [
    "## Closure\n",
    "Python에서 nested function은 자신을 감싸고 있는 enclosing function의 variable 값에 접근할 수 있으며,\n",
    "\n",
    "> non-local: global scope은 아니면서 가장 가까운 상위 function에 존재하는 symbol을 참조하는...\n",
    "\n",
    "그 중 non-local variable들은 nested function에 의해 capture 되며, enclosing function의 실행이 끝나더라도 접근이 가능하고, 이런걸 Closure라고 부릅니다.\n"
   ]
  },
  {
   "cell_type": "code",
   "execution_count": 18,
   "id": "5e3cbfbf",
   "metadata": {},
   "outputs": [],
   "source": [
    "def outerFunction(text): \n",
    "    def innerFunction(): \n",
    "        print(text)\n",
    "\n",
    "    return innerFunction "
   ]
  },
  {
   "cell_type": "markdown",
   "id": "11b33516",
   "metadata": {},
   "source": [
    "예를 들어 위의 예제에서 outerFunction에 넘겨진 text variable은 innerFunction에 capture되므로,\n",
    "\n",
    "outerFunction이 실행이 끝난 후에 outerFunction을 통해 생성한 innerFunction을 실행하게 되면 생성 시에 전달 받았던 text 값이 계속 유지되는 것을 확인할 수 있습니다. "
   ]
  },
  {
   "cell_type": "code",
   "execution_count": 19,
   "id": "e884bc89",
   "metadata": {},
   "outputs": [
    {
     "name": "stdout",
     "output_type": "stream",
     "text": [
      "Hi Closure!\n"
     ]
    }
   ],
   "source": [
    "ex1 = outerFunction('Hi Closure!')\n",
    "ex1()"
   ]
  },
  {
   "cell_type": "code",
   "execution_count": 20,
   "id": "2f0f3c12",
   "metadata": {},
   "outputs": [
    {
     "name": "stdout",
     "output_type": "stream",
     "text": [
      "Hello Closure!\n"
     ]
    }
   ],
   "source": [
    "ex2 = outerFunction('Hello Closure!')\n",
    "ex2()"
   ]
  },
  {
   "cell_type": "markdown",
   "id": "71d67d71",
   "metadata": {},
   "source": [
    "## Decorator\n",
    "Decorator Pattern은 software design pattern의 하나로, 동적으로 function/method/class 등의 기능을 변경할 수 있는 패턴을 의미하며, Python Decorator는 Decorator Pattern을 구현하기 위한 Syntax Sugar입니다.\n",
    "\n",
    "예를 들어 아래와 같이 closure를 생성하는 function이 있을때, ..."
   ]
  },
  {
   "cell_type": "code",
   "execution_count": 21,
   "id": "c5d801f9",
   "metadata": {},
   "outputs": [],
   "source": [
    "def decorator(func):\n",
    "    def _():\n",
    "        print(\"prolog\")\n",
    "        func()\n",
    "        print(\"epilog\")\n",
    "\n",
    "    return _"
   ]
  },
  {
   "cell_type": "markdown",
   "id": "5a12db4a",
   "metadata": {},
   "source": [
    "@function_name을 타겟 function 앞에 붙여주는 것을 통해 decorator pattern을 적용할 수 있습니다."
   ]
  },
  {
   "cell_type": "code",
   "execution_count": 22,
   "id": "8fb8d98b",
   "metadata": {},
   "outputs": [
    {
     "name": "stdout",
     "output_type": "stream",
     "text": [
      "prolog\n",
      "test func called\n",
      "epilog\n"
     ]
    }
   ],
   "source": [
    "@decorator\n",
    "def test():\n",
    "    print(\"test func called\")\n",
    "    \n",
    "test()"
   ]
  },
  {
   "cell_type": "markdown",
   "id": "7f5cbe36",
   "metadata": {},
   "source": [
    "위 문법은 아래 코드와 동일한 동작을 수행합니다."
   ]
  },
  {
   "cell_type": "code",
   "execution_count": 23,
   "id": "758cbb78",
   "metadata": {},
   "outputs": [
    {
     "name": "stdout",
     "output_type": "stream",
     "text": [
      "prolog\n",
      "test func called\n",
      "epilog\n"
     ]
    }
   ],
   "source": [
    "def test():\n",
    "    print(\"test func called\")\n",
    "\n",
    "test = decorator(test)\n",
    "\n",
    "test()"
   ]
  },
  {
   "cell_type": "markdown",
   "id": "cb48ba48",
   "metadata": {},
   "source": [
    "### Passing arguments\n",
    "decorating 대상이 argument를 가진 경우는 unpack operator를 이용해서 전달해줄 수 있습니다."
   ]
  },
  {
   "cell_type": "code",
   "execution_count": 24,
   "id": "9e49729c",
   "metadata": {},
   "outputs": [
    {
     "name": "stdout",
     "output_type": "stream",
     "text": [
      "prolog\n",
      "args: (1, 2, 3) kwargs: {}\n",
      "test func called\n",
      "a=1, b=2, c=3\n",
      "epilog\n"
     ]
    }
   ],
   "source": [
    "def decorator(func):\n",
    "    def _(*args, **kwargs):\n",
    "        print(\"prolog\")\n",
    "        print(\"args:\", args, \"kwargs:\", kwargs)\n",
    "        func(*args, **kwargs)\n",
    "        print(\"epilog\")\n",
    "\n",
    "    return _\n",
    "\n",
    "@decorator\n",
    "def test(a, b, c):\n",
    "    print(\"test func called\")\n",
    "    print(\"a=%d, b=%d, c=%d\" % (a, b, c))\n",
    "\n",
    "test(1, 2, 3)"
   ]
  },
  {
   "cell_type": "markdown",
   "id": "71912ca3",
   "metadata": {},
   "source": [
    "### Decorator with arguments\n",
    "decorator 자체에 변수를 넘기려면 아래처럼 하는 방법도 있습니다. (로깅을 하는데 타겟 로그 파일을 지정하고 싶다거나...)"
   ]
  },
  {
   "cell_type": "code",
   "execution_count": 25,
   "id": "2dce1c71",
   "metadata": {},
   "outputs": [
    {
     "name": "stdout",
     "output_type": "stream",
     "text": [
      "default prolog\n",
      "test_default func called\n",
      "default epilog\n",
      "\n",
      "overrided prolog\n",
      "test_override func called\n",
      "overrided epilog\n",
      "\n"
     ]
    }
   ],
   "source": [
    "def decorator(name=\"default\"):\n",
    "    def _(func):\n",
    "        def __(*args, **kwargs):\n",
    "            print(name, \"prolog\")\n",
    "            func(*args, **kwargs)\n",
    "            print(name, \"epilog\")\n",
    "            print(\"\")\n",
    "\n",
    "        return __\n",
    "\n",
    "    return _\n",
    "\n",
    "@decorator()\n",
    "def test_default():\n",
    "    print(\"test_default func called\")\n",
    "\n",
    "@decorator(name='overrided')\n",
    "def test_override():\n",
    "    print(\"test_override func called\")\n",
    "\n",
    "test_default()\n",
    "test_override()"
   ]
  },
  {
   "cell_type": "markdown",
   "id": "6754d1c7",
   "metadata": {},
   "source": [
    "### Decorator class\n",
    "Closure 대신 callable object를 이용해서 decorator를 구현하는 것도 가능합니다."
   ]
  },
  {
   "cell_type": "code",
   "execution_count": 26,
   "id": "6b77a8bd",
   "metadata": {},
   "outputs": [
    {
     "name": "stdout",
     "output_type": "stream",
     "text": [
      "test decorator class prolog\n",
      "test func called\n",
      "test decorator class epilog\n"
     ]
    }
   ],
   "source": [
    "class decorator(object):\n",
    "    __name = 'test decorator class'\n",
    "\n",
    "    def __init__(self, func):\n",
    "        self.func = func\n",
    "\n",
    "    def __call__(self):\n",
    "        print(self.__name, \"prolog\")\n",
    "        self.func()\n",
    "        print(self.__name, \"epilog\")\n",
    "\n",
    "\n",
    "@decorator\n",
    "def test():\n",
    "    print(\"test func called\")\n",
    "\n",
    "test()"
   ]
  },
  {
   "cell_type": "markdown",
   "id": "034e6b55",
   "metadata": {},
   "source": [
    "### Decorator in OpenSource\n",
    "#### Flask \n",
    "API Server 용도로 많이 사용되는 Flask 프로젝트에서는 특정 경로(파일)에 대한 핸들러를 지정하기 위한 목적으로 decorator를 사용하고 있습니다.\n",
    "\n",
    "* https://flask.palletsprojects.com/en/1.1.x/quickstart/#a-minimal-application\n",
    "\n",
    "```\n",
    "from flask import Flask\n",
    "app = Flask(__name__)\n",
    "\n",
    "@app.route('/')\n",
    "def index():\n",
    "    return 'Index Page'\n",
    "\n",
    "@app.route('/hello')\n",
    "def hello():\n",
    "    return 'Hello, World'\n",
    "```\n",
    "\n",
    "위 코드를 아래와 같이 실행하고, localhost:5000/hello 에 접속해보면 브라우져 상에 Hello, World가 출력되는 것을 확인할 수 있습니다.\n",
    "\n",
    "```\n",
    "$ export FLASK_APP=hello.py\n",
    "$ flask run\n",
    " * Running on http://127.0.0.1:5000/\n",
    "```\n",
    "\n",
    "#### dJango\n",
    "\n",
    "dJango의 경우 login 이 필요한 페이지 등을 정의하는데 decorator를 활용합니다.\n",
    "\n",
    "```\n",
    "from django.contrib.auth.decorators import login_required\n",
    "\n",
    "@login_required\n",
    "def my_view(request):\n",
    "    ...\n",
    "```\n",
    "\n",
    "login_required 데코레이터가 설정된 뷰의 경우 로그인을 했는지를 체크하고, 로그인이 안되어 있는 경우 로그인 페이지로 리다이렉션 시키는 등의 동작이 추가되게 됩니다.\n",
    "\n",
    "#### Timeout-decorator\n",
    "\n",
    "timeout-decorator 등을 사용하면 watchdog을 간단히 구현할 수 있습니다.\n",
    "\n",
    "* https://github.com/pnpnpn/timeout-decorator\n",
    "\n",
    "```\n",
    "import time\n",
    "import timeout_decorator\n",
    "\n",
    "@timeout_decorator.timeout(5)\n",
    "def mytest():\n",
    "    print(\"Start\")\n",
    "    for i in range(1,10):\n",
    "        time.sleep(1)\n",
    "        print(\"{} seconds have passed\".format(i))\n",
    "\n",
    "mytest()\n",
    "```"
   ]
  }
 ],
 "metadata": {
  "kernelspec": {
   "display_name": "Python 3 (ipykernel)",
   "language": "python",
   "name": "python3"
  },
  "language_info": {
   "codemirror_mode": {
    "name": "ipython",
    "version": 3
   },
   "file_extension": ".py",
   "mimetype": "text/x-python",
   "name": "python",
   "nbconvert_exporter": "python",
   "pygments_lexer": "ipython3",
   "version": "3.8.12"
  }
 },
 "nbformat": 4,
 "nbformat_minor": 5
}
