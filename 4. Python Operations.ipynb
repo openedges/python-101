{
 "cells": [
  {
   "cell_type": "markdown",
   "id": "acf49dfc",
   "metadata": {},
   "source": [
    "# Boolean Operations\n",
    "\n",
    "| operation | description |\n",
    "| --- | --- |\n",
    "| `x or y`\t| if x is false, then y, else x |\n",
    "| `x and y`\t| if x is false, then x, else y |\n",
    "| `not x`\t| if x is false, then True, else False |\n",
    "\n",
    "Note:\n",
    "not has a lower priority than non-Boolean operations, so not a == b is interpreted as not (a == b), and a == not b is a syntax error\n",
    "\n",
    "일반적으로 class의 \\_\\_bool\\_\\_() method가 False를 리턴하거나 \\_\\_len\\_\\_() method가 0을 리턴하는 경우 False로 판정된다.\n",
    "\n",
    "일반적인 built-in type에서 False로 판단되는 경우는 아래와 같다.\n",
    "\n",
    "* constant defined to be false: None, False\n",
    "* zero of any numeric type: 0, 0.0, 0j, Decimal(0), Fraction(0, 1)\n",
    "* empty sequence and collections: '', (), [], set(), range(0)"
   ]
  },
  {
   "cell_type": "code",
   "execution_count": 9,
   "id": "1ef357f3",
   "metadata": {},
   "outputs": [
    {
     "data": {
      "text/plain": [
       "True"
      ]
     },
     "execution_count": 9,
     "metadata": {},
     "output_type": "execute_result"
    }
   ],
   "source": [
    "not []"
   ]
  },
  {
   "cell_type": "markdown",
   "id": "3fc91d24",
   "metadata": {},
   "source": [
    "# Comparisons\n",
    "| operation | description |\n",
    "| --- | --- |\n",
    "| `<`\t| strict less than |\n",
    "| `<=`\t| less than or equal |\n",
    "| `>`\t| strictly greater than |\n",
    "| `>=`\t| greater than or equal |\n",
    "| `==`\t| equal |\n",
    "| `!=`\t| not equal |\n",
    "| `is`\t| object identity |\n",
    "| `is not`\t| negated object identity |"
   ]
  },
  {
   "cell_type": "code",
   "execution_count": 8,
   "id": "2849565b",
   "metadata": {},
   "outputs": [
    {
     "data": {
      "text/plain": [
       "(99999, 99999, 140648651288752, 140648651289712)"
      ]
     },
     "execution_count": 8,
     "metadata": {},
     "output_type": "execute_result"
    }
   ],
   "source": [
    "a = 99999\n",
    "b = 99999\n",
    "\n",
    "a, b, id(a), id(b)"
   ]
  },
  {
   "cell_type": "code",
   "execution_count": 2,
   "id": "ca90dc8b",
   "metadata": {},
   "outputs": [
    {
     "data": {
      "text/plain": [
       "False"
      ]
     },
     "execution_count": 2,
     "metadata": {},
     "output_type": "execute_result"
    }
   ],
   "source": [
    "a is b"
   ]
  },
  {
   "cell_type": "code",
   "execution_count": 3,
   "id": "f743676f",
   "metadata": {},
   "outputs": [
    {
     "data": {
      "text/plain": [
       "True"
      ]
     },
     "execution_count": 3,
     "metadata": {},
     "output_type": "execute_result"
    }
   ],
   "source": [
    "a == b"
   ]
  },
  {
   "cell_type": "code",
   "execution_count": 7,
   "id": "93485de3",
   "metadata": {},
   "outputs": [
    {
     "data": {
      "text/plain": [
       "([1, 2], [1, 2], 140648651303104, 140648651550208)"
      ]
     },
     "execution_count": 7,
     "metadata": {},
     "output_type": "execute_result"
    }
   ],
   "source": [
    "a = [ 1, 2 ]\n",
    "b = [ 1 ]\n",
    "b.append(2)\n",
    "\n",
    "a, b, id(a), id(b)"
   ]
  },
  {
   "cell_type": "code",
   "execution_count": 5,
   "id": "0d9800d2",
   "metadata": {},
   "outputs": [
    {
     "data": {
      "text/plain": [
       "False"
      ]
     },
     "execution_count": 5,
     "metadata": {},
     "output_type": "execute_result"
    }
   ],
   "source": [
    "a is b"
   ]
  },
  {
   "cell_type": "code",
   "execution_count": 6,
   "id": "f8c30506",
   "metadata": {},
   "outputs": [
    {
     "data": {
      "text/plain": [
       "True"
      ]
     },
     "execution_count": 6,
     "metadata": {},
     "output_type": "execute_result"
    }
   ],
   "source": [
    "a == b"
   ]
  },
  {
   "cell_type": "markdown",
   "id": "613a3e9b",
   "metadata": {},
   "source": [
    "# Numerical Operations\n",
    "| operation | description | example | \n",
    "| --- | --- | --- |\n",
    "| `x + y`\t| sum of x and y\t| `5 + 2` → 7\t|\n",
    "| `x - y`\t| difference of x and y\t| `5 - 2` → 3\t|\n",
    "| `x * y`\t| product of x and y\t| `5 * 2` → 10\t|\n",
    "| `x / y`\t| quotient of x and y\t| `5 / 2` → 2.5\t|\n",
    "| `x // y`\t| floored quotient of x and y\t| `5 // 2` → 2\t|\n",
    "| `x % y`\t| remainder of x / y\t| `5 % 2` → 1\t|\n",
    "| `-x`\t| x negated\t| `-5` → -5\t|\n",
    "| `+x`\t| x unchanged\t| `+5` → 5\t|\n",
    "| `abs(x)`\t| absolute valoe or magnitude of x\t| `abs(5)` → 5\t|\n",
    "| `int(x)`\t| x converted to integer\t| `int(5.5)` → 5\t|\n",
    "| `float(x)`\t| x converted to floating point\t| `float(5)` → 5.\t|\n",
    "| `complex(re, im)`\t| a complex number with ...\t| |\n",
    "| `c.conjugate()`\t| conjugate of the complex number c | |\n",
    "| `divmod(x, y)`\t| the pair (x // y, x % y)\t| `divmod(5, 2)` → (2, 1)\t|\n",
    "| `pow(x, y)`\t| x to the power y\t| `pow(5, 2)` → 25\t|\n",
    "| `x ** y`\t| x to the power y\t| `5 ** 2` → 25\t|\n",
    "\n",
    "\n",
    "# Bitwise Operations\n",
    "| operation | description |\n",
    "| --- | --- |\n",
    "| `x \\| y`\t| bitwise or of x and y |\n",
    "| `x ^ y`\t| bitwise exclusive or of x and y |\n",
    "| `x & y`\t| bitwise and of x and y |\n",
    "| `x << n`\t| x shifted left by n bits |\n",
    "| `x >> n`\t| x shifted right by n bits |\n",
    "| `-x`\t| the bits of x inverted |\n",
    "\n",
    "Notes:\n",
    "Negative shift counts cause a ValueError to be raised"
   ]
  },
  {
   "cell_type": "markdown",
   "id": "a7439cb8",
   "metadata": {},
   "source": [
    "# Common Sequence Operations\n",
    "| operation | description | example | \n",
    "| --- | --- | --- |\n",
    "| `x in s`\t| True if an item of s is equal to x, else False\t |  `1 in [1, 2, 3]` → `True` |\n",
    "| `x not in s`\t| False if an item of s is equal to x, else True\t |  `1 not in [1, 2, 3]` → `False`   |\n",
    "| `s + t`\t| the concatenation of s and t\t| `[ 1, 2 ] + [ 3, 4 ]` → `[ 1, 2, 3, 4 ]` |\n",
    "| `s * n` or `n * s`\t| equivalent to adding s to itself n times\t| `[ 1, 2 ] * 3` → `[ 1, 2, 1, 2, 1, 2 ]` |\n",
    "| `s[i]`\t| ith item of s, origin 0\t | |\n",
    "| `s[i:j]`\t| slice of s from i to j\t| `[ 00, 11, 22, 33, 44 ][2:4]` → `[ 22, 33 ]`  |\n",
    "| `s[i:j:k]`\t| slice of s from i to j with step k\t| `[ 00, 11, 22, 33, 44 ][1:4:2]` → `[ 11, 33 ]`  |\n",
    "| `len(s)`\t| length of s\t | |\n",
    "| `min(s)`\t| smallest item of s\t | |\n",
    "| `max(s)`\t| largest item of s\t | |\n",
    "| `s.index(x, i[, j]])`\t| index of the first occurence of x in s (at or after index i and before index j)\t | |\n",
    "| `s.count(x)`\t| total number of occurrences of x in s\t| `[ 1, 2, 2, 2, 2, 3 ].count(2)` → `4` |"
   ]
  },
  {
   "cell_type": "code",
   "execution_count": null,
   "id": "81284bd5",
   "metadata": {},
   "outputs": [],
   "source": []
  }
 ],
 "metadata": {
  "kernelspec": {
   "display_name": "Python 3 (ipykernel)",
   "language": "python",
   "name": "python3"
  },
  "language_info": {
   "codemirror_mode": {
    "name": "ipython",
    "version": 3
   },
   "file_extension": ".py",
   "mimetype": "text/x-python",
   "name": "python",
   "nbconvert_exporter": "python",
   "pygments_lexer": "ipython3",
   "version": "3.8.12"
  }
 },
 "nbformat": 4,
 "nbformat_minor": 5
}
